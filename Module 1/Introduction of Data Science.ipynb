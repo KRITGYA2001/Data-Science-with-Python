{
 "cells": [
  {
   "cell_type": "markdown",
   "id": "cbc73fe3",
   "metadata": {},
   "source": [
    "Data science is a \"concept to unify statistics, data analysis, machine learning and their related methods\" in order to \"understand and analyze actual phenomena\" with data. It employs techniques and theories drawn from many fields within the context of mathematics, statistics, computer science, and information science."
   ]
  },
  {
   "cell_type": "markdown",
   "id": "cdd758f6",
   "metadata": {},
   "source": [
    " Data Science has emerged because of the evolution of mathematical statistics, data analysis, and big data. Data Science is an interdisciplinary field that allows you to extract knowledge from structured or unstructured data."
   ]
  },
  {
   "cell_type": "markdown",
   "id": "3bd025bb",
   "metadata": {},
   "source": [
    "# Data Science Job Roles"
   ]
  },
  {
   "cell_type": "markdown",
   "id": "eab56a45",
   "metadata": {},
   "source": [
    "1.Data Scientist :- \n",
    "    A data scientist's role combines computer science, statistics, and mathematics. They analyze, process, and model data then interpret the results to create actionable plans for companies and other organizations."
   ]
  },
  {
   "cell_type": "markdown",
   "id": "e65ab5d5",
   "metadata": {},
   "source": [
    "2.Data Analyst :-\n",
    "    The data analyst serves as a gatekeeper for an organization's data so stakeholders can understand data and use it to make strategic business decisions."
   ]
  },
  {
   "cell_type": "markdown",
   "id": "bb8d01c3",
   "metadata": {},
   "source": [
    "3.Data Architect :-\n",
    "    A data architect is an information technology (IT) specialist who designs and manages data systems, sets policies for how data is stored and accessed, coordinates various data sources within an organization, and integrates new data technologies into existing IT infrastructures."
   ]
  },
  {
   "cell_type": "markdown",
   "id": "0cc9853c",
   "metadata": {},
   "source": [
    "4.Data Engineer :- \n",
    "    Data engineers work in a variety of settings to build systems that collect, manage, and convert raw data into usable information for data scientists and business analysts to interpret."
   ]
  },
  {
   "cell_type": "markdown",
   "id": "74db7968",
   "metadata": {},
   "source": [
    "    \n",
    "5.Statistician :-\n",
    "    At a high level, statisticians are professionals who apply statistical methods and models to real-world problems.\n"
   ]
  },
  {
   "cell_type": "markdown",
   "id": "f3ba5843",
   "metadata": {},
   "source": [
    "    \n",
    "6.Database Administrator :-\n",
    "    Database administrators ensure databases run efficiently. Database administrators and architects create or organize systems to store and secure a variety of data, such as financial information and customer shipping records.\n"
   ]
  },
  {
   "cell_type": "markdown",
   "id": "5bfc7d4f",
   "metadata": {},
   "source": [
    "    \n",
    "7.Business Analytics :-\n",
    "    business analytics refers to: Taking in and processing historical business data. Analyzing that data to identify trends, patterns, and root causes.\n"
   ]
  },
  {
   "cell_type": "markdown",
   "id": "9d194eea",
   "metadata": {},
   "source": [
    "        \n",
    "8.Data and Analytics Manager :-\n",
    "    Data analytics managers provide direction for a team of data analysts. ... They oversee the work of an analytics department, ensuring its accuracy. They also take the lead on developing processes for effective data analysis and reporting. To do so, they need a combination of data analysis and business skills.  "
   ]
  },
  {
   "cell_type": "code",
   "execution_count": null,
   "id": "6eebf0fe",
   "metadata": {},
   "outputs": [],
   "source": []
  }
 ],
 "metadata": {
  "kernelspec": {
   "display_name": "Python 3",
   "language": "python",
   "name": "python3"
  },
  "language_info": {
   "codemirror_mode": {
    "name": "ipython",
    "version": 3
   },
   "file_extension": ".py",
   "mimetype": "text/x-python",
   "name": "python",
   "nbconvert_exporter": "python",
   "pygments_lexer": "ipython3",
   "version": "3.8.8"
  }
 },
 "nbformat": 4,
 "nbformat_minor": 5
}
