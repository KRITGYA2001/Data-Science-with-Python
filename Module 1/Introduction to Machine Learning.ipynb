{
 "cells": [
  {
   "cell_type": "markdown",
   "id": "d84660bb",
   "metadata": {},
   "source": [
    "# Machine Learning"
   ]
  },
  {
   "cell_type": "markdown",
   "id": "ed5bba82",
   "metadata": {},
   "source": [
    "Machine Learning :- is a form of AI that teaches computers to think in a similar way to how humans do.\n",
    "Learning and improving upon past experiences.\n",
    "It works by exploring data and identifying patterns, and involves minimal human intervention."
   ]
  },
  {
   "cell_type": "markdown",
   "id": "bf0a1451",
   "metadata": {},
   "source": [
    "Three Types of Machine Learning :- "
   ]
  },
  {
   "cell_type": "markdown",
   "id": "78c0132b",
   "metadata": {},
   "source": [
    "1)Supervised Learning(Learn from user data)\n",
    "   "
   ]
  },
  {
   "cell_type": "markdown",
   "id": "73ea54fa",
   "metadata": {},
   "source": [
    " 2)Unsupervised Learning(Learn from mistake)\n",
    "   "
   ]
  },
  {
   "cell_type": "markdown",
   "id": "9e208ea5",
   "metadata": {},
   "source": [
    " 3)Reinforcement Learning(Learn from rewards)"
   ]
  },
  {
   "cell_type": "markdown",
   "id": "dcb3bd5c",
   "metadata": {},
   "source": [
    "# What is analytics"
   ]
  },
  {
   "cell_type": "markdown",
   "id": "c687ac30",
   "metadata": {},
   "source": [
    "Analytics is the systematic computational analysis of data or statistics. It is used for the discovery, interpretation, and communication of meaningful patterns in data. "
   ]
  },
  {
   "cell_type": "markdown",
   "id": "9b1c2a2b",
   "metadata": {},
   "source": [
    "# Data Scientist and Data Engineer"
   ]
  },
  {
   "cell_type": "markdown",
   "id": "149bcef2",
   "metadata": {},
   "source": [
    "Data Science life cycle includes: "
   ]
  },
  {
   "cell_type": "markdown",
   "id": "03334d9a",
   "metadata": {},
   "source": [
    "Data Discovery: Searching for different sources of data and capturing structured and unstructured data."
   ]
  },
  {
   "cell_type": "markdown",
   "id": "57309fa4",
   "metadata": {},
   "source": [
    "Data Preparation: Converting data into a common format."
   ]
  },
  {
   "cell_type": "markdown",
   "id": "ff51a492",
   "metadata": {},
   "source": [
    "Mathematical model: Using variables and equations to establish a relationship."
   ]
  },
  {
   "cell_type": "markdown",
   "id": "498390bc",
   "metadata": {},
   "source": [
    "Getting things in action: Gathering information and deriving outcomes based on business requirements."
   ]
  },
  {
   "cell_type": "markdown",
   "id": "b3e1eaaa",
   "metadata": {},
   "source": [
    "Communication: Communicating findings to decision-makers."
   ]
  },
  {
   "cell_type": "markdown",
   "id": "09b2bedb",
   "metadata": {},
   "source": [
    "# Data Enginerring"
   ]
  },
  {
   "cell_type": "markdown",
   "id": "ca1e31b7",
   "metadata": {},
   "source": [
    "1.Develop, construct, test, and maintain architectures (such as databases and large-scale processing systems)"
   ]
  },
  {
   "cell_type": "markdown",
   "id": "a0b049e8",
   "metadata": {},
   "source": [
    "2.SAP, Oracle, Cassandra, MySQL, Redis, Riak, PostgreSQL, MongoDB, neo4j, Hive, and Sqoop. Scala, Java, and C#."
   ]
  },
  {
   "cell_type": "markdown",
   "id": "f997c6bd",
   "metadata": {},
   "source": [
    "3.Ensure architecture will support the requirements of the business"
   ]
  },
  {
   "cell_type": "markdown",
   "id": "588cb957",
   "metadata": {},
   "source": [
    "4.Discover opportunities for data acquisition"
   ]
  },
  {
   "cell_type": "markdown",
   "id": "2bc1f9c4",
   "metadata": {},
   "source": [
    "5.Develop data set processes for data modeling, mining and production"
   ]
  },
  {
   "cell_type": "markdown",
   "id": "83545fcd",
   "metadata": {},
   "source": [
    "# Data Science"
   ]
  },
  {
   "cell_type": "markdown",
   "id": "85313ab4",
   "metadata": {},
   "source": [
    "1.Cleans and Organizes (big)data. Performs descriptive statistics and analysis to develop insights, build models and solve business need."
   ]
  },
  {
   "cell_type": "markdown",
   "id": "2a6b646c",
   "metadata": {},
   "source": [
    "2.SPSS, R, Python, SAS, Stata and Julia to build models. Scala, Java, and C#."
   ]
  },
  {
   "cell_type": "markdown",
   "id": "265157bd",
   "metadata": {},
   "source": [
    "3.Leverage large volumes of data from internal and external sources to answer that business"
   ]
  },
  {
   "cell_type": "markdown",
   "id": "182fa8cb",
   "metadata": {},
   "source": [
    "4.Employ sophisticated analytics programs, machine learning and statistical methods to prepare data for use in predictive and prescriptive modeling"
   ]
  },
  {
   "cell_type": "markdown",
   "id": "79d61b4d",
   "metadata": {},
   "source": [
    "5.Explore and examine data to find hidden patterns"
   ]
  },
  {
   "cell_type": "code",
   "execution_count": null,
   "id": "1d9c0d9d",
   "metadata": {},
   "outputs": [],
   "source": []
  }
 ],
 "metadata": {
  "kernelspec": {
   "display_name": "Python 3",
   "language": "python",
   "name": "python3"
  },
  "language_info": {
   "codemirror_mode": {
    "name": "ipython",
    "version": 3
   },
   "file_extension": ".py",
   "mimetype": "text/x-python",
   "name": "python",
   "nbconvert_exporter": "python",
   "pygments_lexer": "ipython3",
   "version": "3.8.8"
  }
 },
 "nbformat": 4,
 "nbformat_minor": 5
}
