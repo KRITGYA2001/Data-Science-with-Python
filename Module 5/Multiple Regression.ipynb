{
 "cells": [
  {
   "cell_type": "markdown",
   "id": "66d8a5ac",
   "metadata": {},
   "source": [
    "# Multiple Regression"
   ]
  },
  {
   "cell_type": "code",
   "execution_count": 2,
   "id": "67bc887d",
   "metadata": {},
   "outputs": [],
   "source": [
    "import numpy as np\n",
    "import pandas as pd\n",
    "import matplotlib.pyplot as plt\n",
    "from sklearn.linear_model import LinearRegression"
   ]
  },
  {
   "cell_type": "code",
   "execution_count": 3,
   "id": "db08d90c",
   "metadata": {},
   "outputs": [],
   "source": [
    "'''Depending upon 2-3 col. to predict the value of the next col.'''\n",
    "file=pd.read_csv('MRtesting1.csv')"
   ]
  },
  {
   "cell_type": "code",
   "execution_count": 4,
   "id": "6d494375",
   "metadata": {},
   "outputs": [
    {
     "name": "stdout",
     "output_type": "stream",
     "text": [
      "   Table1  Table2  Table3\n",
      "0       1      10       5\n",
      "1       2      20      15\n",
      "2       3      30      25\n",
      "3       4      40      35\n",
      "4       5      50      45\n",
      "   Table1  Table2  Table3\n",
      "5       6      60      55\n",
      "6       7      70      65\n",
      "7       8      80      75\n",
      "8       9      90      85\n",
      "9      10     100      95\n"
     ]
    }
   ],
   "source": [
    "print(file.head())\n",
    "print(file.tail())"
   ]
  },
  {
   "cell_type": "code",
   "execution_count": 5,
   "id": "f971dfe7",
   "metadata": {},
   "outputs": [],
   "source": [
    "x=file[['Table1','Table2']]\n",
    "y=file['Table3']"
   ]
  },
  {
   "cell_type": "code",
   "execution_count": 6,
   "id": "6ec754cc",
   "metadata": {},
   "outputs": [
    {
     "data": {
      "text/plain": [
       "LinearRegression()"
      ]
     },
     "execution_count": 6,
     "metadata": {},
     "output_type": "execute_result"
    }
   ],
   "source": [
    "lst=LinearRegression()\n",
    "lst.fit(x,y)"
   ]
  },
  {
   "cell_type": "code",
   "execution_count": 7,
   "id": "22c7e1f3",
   "metadata": {},
   "outputs": [
    {
     "name": "stdout",
     "output_type": "stream",
     "text": [
      "[ 5. 25.]\n"
     ]
    }
   ],
   "source": [
    "predict=lst.predict([[1,10],[3,30]])\n",
    "print(predict)"
   ]
  },
  {
   "cell_type": "code",
   "execution_count": null,
   "id": "0d3bfee7",
   "metadata": {},
   "outputs": [],
   "source": []
  }
 ],
 "metadata": {
  "kernelspec": {
   "display_name": "Python 3",
   "language": "python",
   "name": "python3"
  },
  "language_info": {
   "codemirror_mode": {
    "name": "ipython",
    "version": 3
   },
   "file_extension": ".py",
   "mimetype": "text/x-python",
   "name": "python",
   "nbconvert_exporter": "python",
   "pygments_lexer": "ipython3",
   "version": "3.8.8"
  }
 },
 "nbformat": 4,
 "nbformat_minor": 5
}
