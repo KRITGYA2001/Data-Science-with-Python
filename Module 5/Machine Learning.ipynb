{
 "cells": [
  {
   "cell_type": "markdown",
   "id": "96058e75",
   "metadata": {},
   "source": [
    "Machine Learning :- is a form of AI that teaches computers to think in a similar way to how humans do.\n",
    "Learning and improving upon past experiences.\n",
    "It works by exploring data and identifying patterns, and involves minimal human intervention."
   ]
  },
  {
   "cell_type": "markdown",
   "id": "65204e25",
   "metadata": {},
   "source": [
    "Three Types of Machine Learning :- \n",
    "    1)Supervised Learning(Learn from user data)\n",
    "    2)Unsupervised Learning(Learn from mistake)\n",
    "    3)Reinforcement Learning(Learn from rewards)"
   ]
  },
  {
   "cell_type": "markdown",
   "id": "e301503e",
   "metadata": {},
   "source": [
    "Numerical Data :- \n",
    "    1)Discrete(Limited to integers)\n",
    "    2)Continous(The number that will be the infinite values)"
   ]
  },
  {
   "cell_type": "markdown",
   "id": "b030ee3a",
   "metadata": {},
   "source": [
    "Categorical Data :- No relation between the two col. of data\n",
    "Ordinal Data:- We can judge the first col. data according to second col. data "
   ]
  },
  {
   "cell_type": "markdown",
   "id": "72fa5b3a",
   "metadata": {},
   "source": [
    "Topic covered:- \n",
    "    mean(average value)\n",
    "    median(the mid point value in data)\n",
    "    mode(the most common value from the data)"
   ]
  },
  {
   "cell_type": "markdown",
   "id": "a640ce29",
   "metadata": {},
   "source": [
    "Scipy Module is used to calculate mode(stats function)\n",
    "Sklearn.linear_model Module is used for predicting the values according from given data "
   ]
  },
  {
   "cell_type": "code",
   "execution_count": 2,
   "id": "f3fcbf58",
   "metadata": {},
   "outputs": [],
   "source": [
    "import numpy as np\n",
    "import pandas as pd\n",
    "import matplotlib.pyplot as plt\n",
    "from scipy import stats\n",
    "from sklearn.linear_model import LinearRegression"
   ]
  },
  {
   "cell_type": "code",
   "execution_count": 3,
   "id": "e278b2bc",
   "metadata": {},
   "outputs": [
    {
     "name": "stdout",
     "output_type": "stream",
     "text": [
      "Mean:- 35.0\n"
     ]
    }
   ],
   "source": [
    "#Mean of the values\n",
    "x=np.array([10,20,30,40,50,60])\n",
    "mean=np.mean(x)\n",
    "print(\"Mean:-\",mean)"
   ]
  },
  {
   "cell_type": "code",
   "execution_count": 5,
   "id": "daea1d6b",
   "metadata": {},
   "outputs": [
    {
     "name": "stdout",
     "output_type": "stream",
     "text": [
      "Median:- 40.0\n"
     ]
    }
   ],
   "source": [
    "#Median of the values\n",
    "x=np.array([10,20,30,40,50,60,70])\n",
    "median=np.median(x)\n",
    "print(\"Median:-\",median)"
   ]
  },
  {
   "cell_type": "code",
   "execution_count": 7,
   "id": "5de28934",
   "metadata": {},
   "outputs": [
    {
     "name": "stdout",
     "output_type": "stream",
     "text": [
      "Mode:- ModeResult(mode=array([10]), count=array([3]))\n"
     ]
    }
   ],
   "source": [
    "#Mode of the values\n",
    "x=np.array([10,20,30,40,50,60,10,10])\n",
    "mode=stats.mode(x)\n",
    "print(\"Mode:-\",mode)"
   ]
  },
  {
   "cell_type": "code",
   "execution_count": 8,
   "id": "366f77c4",
   "metadata": {},
   "outputs": [
    {
     "name": "stdout",
     "output_type": "stream",
     "text": [
      "[10]      [3]\n"
     ]
    }
   ],
   "source": [
    "print(mode[0],\"    \",mode[1])"
   ]
  },
  {
   "cell_type": "markdown",
   "id": "df64b74a",
   "metadata": {},
   "source": [
    "Standard Deviation(σ):- is a measure of how dispersed the data is in relation to the mean"
   ]
  },
  {
   "cell_type": "code",
   "execution_count": 9,
   "id": "7ec472ca",
   "metadata": {},
   "outputs": [
    {
     "name": "stdout",
     "output_type": "stream",
     "text": [
      "Standard Deviation:- 1.707825127659933\n"
     ]
    }
   ],
   "source": [
    "#Standard Deviation\n",
    "x=np.array([10,11,12,13,14,15])\n",
    "SD=np.std(x)\n",
    "print(\"Standard Deviation:-\",SD)"
   ]
  },
  {
   "cell_type": "markdown",
   "id": "90256296",
   "metadata": {},
   "source": [
    "Variance :- is mean squared difference between each data point and the center of the distribution measured by the mean."
   ]
  },
  {
   "cell_type": "code",
   "execution_count": 11,
   "id": "faec9e1b",
   "metadata": {},
   "outputs": [
    {
     "name": "stdout",
     "output_type": "stream",
     "text": [
      "Variance:- 291.6666666666667\n"
     ]
    }
   ],
   "source": [
    "#Variance of the data\n",
    "x=np.array([10,20,30,40,50,60])\n",
    "VAR=np.var(x)\n",
    "print(\"Variance:-\",VAR)"
   ]
  },
  {
   "cell_type": "markdown",
   "id": "0e9858ad",
   "metadata": {},
   "source": [
    "In statistics, a Percentile(or a centile) is a score below which a given percentage of scores in its frequency distribution falls.\n",
    "\n",
    "numpy.percentile() function used to compute the nth percentile of the given data(array elements) along the specified axis."
   ]
  },
  {
   "cell_type": "code",
   "execution_count": 18,
   "id": "83e42246",
   "metadata": {},
   "outputs": [
    {
     "name": "stdout",
     "output_type": "stream",
     "text": [
      "15.0\n",
      "25.0\n",
      "40.0\n",
      "[40.]\n"
     ]
    }
   ],
   "source": [
    "#Percentile of the number\n",
    "#10 % of data is greater than 15.0\n",
    "x=np.array([10,20,30,40,50,60])\n",
    "per=np.percentile(x,10)\n",
    "print(per)\n",
    "per=np.percentile(x,30)\n",
    "print(per)\n",
    "per=np.percentile(x,60)\n",
    "print(per)\n",
    "per=np.percentile(x,60,axis=0,out=None,keepdims=True)\n",
    "print(per)"
   ]
  },
  {
   "cell_type": "code",
   "execution_count": 24,
   "id": "0399d3b3",
   "metadata": {},
   "outputs": [
    {
     "data": {
      "image/png": "[encoded data removed]",
      "text/plain": [
       "<Figure size 432x288 with 1 Axes>"
      ]
     },
     "metadata": {
      "needs_background": "light"
     },
     "output_type": "display_data"
    }
   ],
   "source": [
    "#graph of the data\n",
    "x=np.array([10,20,30,40,50,60])\n",
    "y=np.array([1,2,3,4,5,6])\n",
    "plt.scatter(x,y,color=\"green\")\n",
    "plt.xlabel(\"X-axis\")\n",
    "plt.ylabel(\"Y-axis\")\n",
    "plt.grid(color=\"black\",linewidth=0.5)\n",
    "plt.show()"
   ]
  }
 ],
 "metadata": {
  "kernelspec": {
   "display_name": "Python 3",
   "language": "python",
   "name": "python3"
  },
  "language_info": {
   "codemirror_mode": {
    "name": "ipython",
    "version": 3
   },
   "file_extension": ".py",
   "mimetype": "text/x-python",
   "name": "python",
   "nbconvert_exporter": "python",
   "pygments_lexer": "ipython3",
   "version": "3.8.8"
  }
 },
 "nbformat": 4,
 "nbformat_minor": 5
}
