{
 "cells": [
  {
   "cell_type": "code",
   "execution_count": 2,
   "id": "1f4d22f8",
   "metadata": {},
   "outputs": [],
   "source": [
    "import numpy as np\n",
    "import pandas as pd\n",
    "import seaborn as sns\n",
    "from scipy import stats\n",
    "import matplotlib.pyplot as plt\n",
    "from sklearn.linear_model import LinearRegression"
   ]
  },
  {
   "cell_type": "markdown",
   "id": "f83513a8",
   "metadata": {},
   "source": [
    "# Linear Regression"
   ]
  },
  {
   "cell_type": "raw",
   "id": "3d68e68f",
   "metadata": {},
   "source": [
    "'''\n",
    "#Sample Data\n",
    "Table1     Table2\n",
    "  65         99\n",
    "  44         55\n",
    "  66         96\n",
    "  88         88\n",
    "  44         55 \n",
    "  55         44\n",
    "  22         22\n",
    "  10         01\n",
    "'''  "
   ]
  },
  {
   "cell_type": "code",
   "execution_count": 4,
   "id": "79ab1436",
   "metadata": {},
   "outputs": [],
   "source": [
    "#Operation on csv file\n",
    "file=pd.read_csv(\"LRtesting1.csv\")"
   ]
  },
  {
   "cell_type": "code",
   "execution_count": 5,
   "id": "90b1756c",
   "metadata": {},
   "outputs": [
    {
     "name": "stdout",
     "output_type": "stream",
     "text": [
      "   Table1  Table2\n",
      "0      65      99\n",
      "1      44      55\n",
      "2      66      96\n",
      "3      88      88\n",
      "4      44      55\n",
      "   Table1  Table2\n",
      "3      88      88\n",
      "4      44      55\n",
      "5      55      44\n",
      "6      22      22\n",
      "7      10       1\n"
     ]
    }
   ],
   "source": [
    "#head function (prints first 5 data)\n",
    "#tail function (prints last 5 data)\n",
    "print(file.head())\n",
    "print(file.tail())"
   ]
  },
  {
   "cell_type": "code",
   "execution_count": 6,
   "id": "4080a57d",
   "metadata": {},
   "outputs": [],
   "source": [
    "x=file[\"Table1\"].values[:,np.newaxis]\n",
    "y=file[\"Table2\"].values"
   ]
  },
  {
   "cell_type": "code",
   "execution_count": 7,
   "id": "0a565f66",
   "metadata": {},
   "outputs": [
    {
     "data": {
      "text/plain": [
       "LinearRegression()"
      ]
     },
     "execution_count": 7,
     "metadata": {},
     "output_type": "execute_result"
    }
   ],
   "source": [
    "#creating the LR machine (trail 1)\n",
    "lst=LinearRegression()\n",
    "#fit x and y \n",
    "lst.fit(x,y)"
   ]
  },
  {
   "cell_type": "code",
   "execution_count": 8,
   "id": "bed8601a",
   "metadata": {},
   "outputs": [
    {
     "name": "stdout",
     "output_type": "stream",
     "text": [
      "[ 7.4376349   8.71310917  9.98858344 11.26405771 12.53953198]\n"
     ]
    }
   ],
   "source": [
    "test_data=[[10],[11],[12],[13],[14]]\n",
    "predict=lst.predict(test_data)\n",
    "print(predict)"
   ]
  },
  {
   "cell_type": "code",
   "execution_count": 9,
   "id": "0b78f141",
   "metadata": {},
   "outputs": [],
   "source": [
    "#creating the LR machine (trail 2)\n",
    "file=pd.read_csv(\"LRtesting2.csv\")"
   ]
  },
  {
   "cell_type": "code",
   "execution_count": 10,
   "id": "800c9ccd",
   "metadata": {},
   "outputs": [
    {
     "name": "stdout",
     "output_type": "stream",
     "text": [
      "   Table1  Table2\n",
      "0       1      10\n",
      "1       2      20\n",
      "2       3      30\n",
      "3       4      40\n",
      "4       5      50\n",
      "   Table1  Table2\n",
      "5       6      60\n",
      "6       7      70\n",
      "7       8      80\n",
      "8       9      90\n",
      "9      10     100\n"
     ]
    }
   ],
   "source": [
    "#head function (prints first 5 data)\n",
    "#tail function (prints last 5 data)\n",
    "print(file.head())\n",
    "print(file.tail())"
   ]
  },
  {
   "cell_type": "code",
   "execution_count": 11,
   "id": "8324019a",
   "metadata": {},
   "outputs": [],
   "source": [
    "x=file[\"Table1\"].values[:,np.newaxis]\n",
    "y=file[\"Table2\"].values"
   ]
  },
  {
   "cell_type": "code",
   "execution_count": 12,
   "id": "4da87b7a",
   "metadata": {},
   "outputs": [
    {
     "data": {
      "text/plain": [
       "LinearRegression()"
      ]
     },
     "execution_count": 12,
     "metadata": {},
     "output_type": "execute_result"
    }
   ],
   "source": [
    "lst=LinearRegression()\n",
    "lst.fit(x,y)"
   ]
  },
  {
   "cell_type": "code",
   "execution_count": 13,
   "id": "b84552ed",
   "metadata": {},
   "outputs": [
    {
     "name": "stdout",
     "output_type": "stream",
     "text": [
      "[110. 120. 130. 140. 150.]\n"
     ]
    }
   ],
   "source": [
    "test_data=[[11],[12],[13],[14],[15]]\n",
    "predict=lst.predict(test_data)\n",
    "print(predict)"
   ]
  },
  {
   "cell_type": "code",
   "execution_count": 14,
   "id": "4fa78d9d",
   "metadata": {},
   "outputs": [
    {
     "data": {
      "text/plain": [
       "'from matplotlib import pyplot as plt'"
      ]
     },
     "execution_count": 14,
     "metadata": {},
     "output_type": "execute_result"
    }
   ],
   "source": [
    "'''from matplotlib import pyplot as plt'''\n",
    "#Best fit Line\n",
    "#STEP 1 :- cal. the mean value of x and y"
   ]
  },
  {
   "cell_type": "code",
   "execution_count": 15,
   "id": "1a4e0c16",
   "metadata": {},
   "outputs": [
    {
     "name": "stdout",
     "output_type": "stream",
     "text": [
      "5.5\n"
     ]
    }
   ],
   "source": [
    "x=[1,2,3,4,5,6,7,8,9,10]\n",
    "print(np.mean(x))"
   ]
  },
  {
   "cell_type": "code",
   "execution_count": 16,
   "id": "98e1b9b0",
   "metadata": {},
   "outputs": [
    {
     "data": {
      "text/plain": [
       "'\\nCalculate slope m\\nm= sum(x-X)(y-Y)/(x-X)^2\\nc=Y-mX\\n'"
      ]
     },
     "execution_count": 16,
     "metadata": {},
     "output_type": "execute_result"
    }
   ],
   "source": [
    "'''\n",
    "Calculate slope m\n",
    "m= sum(x-X)(y-Y)/(x-X)^2\n",
    "c=Y-mX\n",
    "'''"
   ]
  },
  {
   "cell_type": "code",
   "execution_count": 17,
   "id": "4adc4d84",
   "metadata": {},
   "outputs": [],
   "source": [
    "file=pd.read_csv(\"LRtesting2.csv\")"
   ]
  },
  {
   "cell_type": "code",
   "execution_count": 18,
   "id": "c28bf9b1",
   "metadata": {},
   "outputs": [],
   "source": [
    "x=file[\"Table1\"].values[:,np.newaxis]\n",
    "y=file[\"Table2\"].values"
   ]
  },
  {
   "cell_type": "code",
   "execution_count": 19,
   "id": "727f56eb",
   "metadata": {},
   "outputs": [
    {
     "data": {
      "image/png": "[encoded data removed]",
      "text/plain": [
       "<Figure size 432x288 with 1 Axes>"
      ]
     },
     "metadata": {
      "needs_background": "light"
     },
     "output_type": "display_data"
    }
   ],
   "source": [
    "plt.scatter(x,y)\n",
    "plt.grid()\n",
    "plt.show()"
   ]
  },
  {
   "cell_type": "code",
   "execution_count": null,
   "id": "0c8eb446",
   "metadata": {},
   "outputs": [],
   "source": []
  },
  {
   "cell_type": "code",
   "execution_count": null,
   "id": "3fa85e9f",
   "metadata": {},
   "outputs": [],
   "source": []
  }
 ],
 "metadata": {
  "kernelspec": {
   "display_name": "Python 3",
   "language": "python",
   "name": "python3"
  },
  "language_info": {
   "codemirror_mode": {
    "name": "ipython",
    "version": 3
   },
   "file_extension": ".py",
   "mimetype": "text/x-python",
   "name": "python",
   "nbconvert_exporter": "python",
   "pygments_lexer": "ipython3",
   "version": "3.8.8"
  }
 },
 "nbformat": 4,
 "nbformat_minor": 5
}
