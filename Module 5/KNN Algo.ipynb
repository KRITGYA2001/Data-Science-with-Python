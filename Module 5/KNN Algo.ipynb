{
 "cells": [
  {
   "cell_type": "code",
   "execution_count": 1,
   "id": "24ca2039",
   "metadata": {},
   "outputs": [],
   "source": [
    "#It find out the distance for all the points from a specific point\n",
    "#Taking sample data"
   ]
  },
  {
   "cell_type": "code",
   "execution_count": 2,
   "id": "48fa067b",
   "metadata": {},
   "outputs": [],
   "source": [
    "import pandas as pd\n",
    "from sklearn.neighbors import KNeighborsClassifier"
   ]
  },
  {
   "cell_type": "code",
   "execution_count": 3,
   "id": "c7d55110",
   "metadata": {},
   "outputs": [],
   "source": [
    "#creating the flower data sample file\n",
    "file=pd.read_csv(\"Flowertestingdata.csv\")"
   ]
  },
  {
   "cell_type": "code",
   "execution_count": 4,
   "id": "31896f62",
   "metadata": {},
   "outputs": [
    {
     "name": "stdout",
     "output_type": "stream",
     "text": [
      "   sepal_length  sepal_width  petal_length  petal_width   class\n",
      "0           5.1          3.2           1.2          1.2  yellow\n",
      "1           5.0          3.5           1.3          1.0   green\n",
      "2           3.8          3.3           1.4          0.5  yellow\n",
      "3           4.0          3.0           1.5          0.6    cyan\n",
      "4           4.0          2.3           1.6          0.9    cyan\n",
      "   sepal_length  sepal_width  petal_length  petal_width   class\n",
      "0           5.1          3.2           1.2          1.2  yellow\n",
      "1           5.0          3.5           1.3          1.0   green\n",
      "2           3.8          3.3           1.4          0.5  yellow\n",
      "3           4.0          3.0           1.5          0.6    cyan\n",
      "4           4.0          2.3           1.6          0.9    cyan\n"
     ]
    }
   ],
   "source": [
    "print(file.head())\n",
    "print(file.head())"
   ]
  },
  {
   "cell_type": "code",
   "execution_count": 13,
   "id": "65d016be",
   "metadata": {},
   "outputs": [],
   "source": [
    "x=file.loc[:,\"sepal_length\":\"petal_width\"]\n",
    "y=file.loc[:,\"class\"]"
   ]
  },
  {
   "cell_type": "code",
   "execution_count": 14,
   "id": "78ed5aaa",
   "metadata": {},
   "outputs": [
    {
     "data": {
      "text/plain": [
       "KNeighborsClassifier()"
      ]
     },
     "execution_count": 14,
     "metadata": {},
     "output_type": "execute_result"
    }
   ],
   "source": [
    "Knn=KNeighborsClassifier()\n",
    "Knn.fit(x,y)"
   ]
  },
  {
   "cell_type": "code",
   "execution_count": 15,
   "id": "0c59bbcc",
   "metadata": {},
   "outputs": [
    {
     "name": "stdout",
     "output_type": "stream",
     "text": [
      "['cyan']\n"
     ]
    }
   ],
   "source": [
    "test_data=[[5.1,3.2,1.2,1.2]]\n",
    "predict=Knn.predict(test_data)\n",
    "print(predict)"
   ]
  },
  {
   "cell_type": "code",
   "execution_count": 9,
   "id": "bf1bf8b5",
   "metadata": {},
   "outputs": [],
   "source": [
    "from matplotlib import pyplot as plt"
   ]
  },
  {
   "cell_type": "code",
   "execution_count": 11,
   "id": "f20959e9",
   "metadata": {},
   "outputs": [
    {
     "data": {
      "image/png": "[encoded data removed]",
      "text/plain": [
       "<Figure size 432x288 with 1 Axes>"
      ]
     },
     "metadata": {
      "needs_background": "light"
     },
     "output_type": "display_data"
    }
   ],
   "source": [
    "plt.xlabel(\"feature\")\n",
    "plt.ylabel(\"class\")\n",
    "\n",
    "c=file.loc[:,\"sepal_length\"]\n",
    "b=file.loc[:,'class']\n",
    "plt.scatter(c,b,color='blue',label=\"sepal_length\")\n",
    "\n",
    "\n",
    "c=file.loc[:,\"sepal_width\"]\n",
    "b=file.loc[:,'class']\n",
    "plt.scatter(c,b,color='green',label=\"sepal_width\")\n",
    "\n",
    "\n",
    "c=file.loc[:,\"petal_length\"]\n",
    "b=file.loc[:,'class']\n",
    "plt.scatter(c,b,color='yellow',label=\"peta_length\")\n",
    "\n",
    "c=file.loc[:,\"petal_width\"]\n",
    "b=file.loc[:,'class']\n",
    "plt.scatter(c,b,color='cyan',label=\"peta_width\")\n",
    "\n",
    "#plt.plot(test,predict,color=\"orange\",label=\"test_data\")\n",
    "#we will use this command in seaborn\n",
    "\n",
    "plt.legend()\n",
    "plt.show()"
   ]
  }
 ],
 "metadata": {
  "kernelspec": {
   "display_name": "Python 3",
   "language": "python",
   "name": "python3"
  },
  "language_info": {
   "codemirror_mode": {
    "name": "ipython",
    "version": 3
   },
   "file_extension": ".py",
   "mimetype": "text/x-python",
   "name": "python",
   "nbconvert_exporter": "python",
   "pygments_lexer": "ipython3",
   "version": "3.8.8"
  }
 },
 "nbformat": 4,
 "nbformat_minor": 5
}
