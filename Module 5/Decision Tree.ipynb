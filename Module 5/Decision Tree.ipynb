{
 "cells": [
  {
   "cell_type": "code",
   "execution_count": 1,
   "id": "df16f79e",
   "metadata": {},
   "outputs": [],
   "source": [
    "import numpy as np\n",
    "import pandas as pd\n",
    "import matplotlib.pyplot as plt\n",
    "from sklearn.linear_model import LinearRegression"
   ]
  },
  {
   "cell_type": "raw",
   "id": "1f438b3e",
   "metadata": {},
   "source": [
    "#It is used for classification\n",
    "#Create a model to predict any value by Learning from data sets\n",
    "'''\n",
    "class of positive=6\n",
    "class of negative=5\n",
    "\n",
    "formula for information gain\n",
    "information gain=I(p,n)=-p/p+n=log>2(p/p+n)-(n/(p+n)) log>2(n/p+n)\n",
    "\n",
    "Entropy E(A)=sum Pi+Ni/p+n * information gain\n",
    "\n",
    "Overall Gain(A)=information gain - Entropy\n",
    "'''"
   ]
  },
  {
   "cell_type": "code",
   "execution_count": 3,
   "id": "4bf42842",
   "metadata": {},
   "outputs": [],
   "source": [
    "from sklearn.tree import DecisionTreeClassifier"
   ]
  },
  {
   "cell_type": "code",
   "execution_count": 4,
   "id": "bf358e93",
   "metadata": {},
   "outputs": [],
   "source": [
    "file=pd.read_csv(\"DTcars.csv\")"
   ]
  },
  {
   "cell_type": "code",
   "execution_count": 5,
   "id": "5025ba83",
   "metadata": {},
   "outputs": [
    {
     "name": "stdout",
     "output_type": "stream",
     "text": [
      "   main  doors  person  color  milage  choice\n",
      "0     1      2       1      1       2       1\n",
      "1     2      1       2      2       3       1\n",
      "2     3      3       3      3       1       2\n",
      "3     3      1       2      3       3       2\n",
      "4     2      3       3      1       2       1\n",
      "   main  doors  person  color  milage  choice\n",
      "4     2      3       3      1       2       1\n",
      "5     1      2       1      2       1       1\n",
      "6     2      3       3      3       1       1\n",
      "7     1      1       1      3       3       2\n",
      "8     3      2       2      1       3       2\n"
     ]
    }
   ],
   "source": [
    "print(file.head())\n",
    "print(file.tail())"
   ]
  },
  {
   "cell_type": "code",
   "execution_count": 6,
   "id": "06d534bc",
   "metadata": {},
   "outputs": [],
   "source": [
    "x=file.loc[:,\"main\":\"milage\"]\n",
    "y=file.loc[:'choice']"
   ]
  },
  {
   "cell_type": "code",
   "execution_count": 7,
   "id": "2d061054",
   "metadata": {},
   "outputs": [
    {
     "data": {
      "text/plain": [
       "DecisionTreeClassifier(max_leaf_nodes=3, random_state=0)"
      ]
     },
     "execution_count": 7,
     "metadata": {},
     "output_type": "execute_result"
    }
   ],
   "source": [
    "# Max leaf node = (greatest number)\n",
    "Tree=DecisionTreeClassifier(max_leaf_nodes=3,random_state=0)\n",
    "Tree.fit(x,y)\n",
    "#Maximun point of view (depending upon parameters) on our dataset(leaf nodes)"
   ]
  },
  {
   "cell_type": "code",
   "execution_count": 8,
   "id": "93afe01a",
   "metadata": {},
   "outputs": [
    {
     "name": "stdout",
     "output_type": "stream",
     "text": [
      "[[1 2 1 1 1 1]]\n"
     ]
    }
   ],
   "source": [
    "predict=Tree.predict([[1,2,1,1,2]])\n",
    "print(predict)"
   ]
  },
  {
   "cell_type": "code",
   "execution_count": null,
   "id": "c44be88f",
   "metadata": {},
   "outputs": [],
   "source": []
  }
 ],
 "metadata": {
  "kernelspec": {
   "display_name": "Python 3",
   "language": "python",
   "name": "python3"
  },
  "language_info": {
   "codemirror_mode": {
    "name": "ipython",
    "version": 3
   },
   "file_extension": ".py",
   "mimetype": "text/x-python",
   "name": "python",
   "nbconvert_exporter": "python",
   "pygments_lexer": "ipython3",
   "version": "3.8.8"
  }
 },
 "nbformat": 4,
 "nbformat_minor": 5
}
