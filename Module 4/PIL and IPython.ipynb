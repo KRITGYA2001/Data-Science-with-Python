{
 "cells": [
  {
   "cell_type": "code",
   "execution_count": 3,
   "id": "4a33ae88",
   "metadata": {},
   "outputs": [],
   "source": [
    "from PIL import Image\n",
    "import PIL\n",
    "from IPython.display import display\n",
    "import numpy as np\n",
    "import matplotlib.pyplot as plt\n",
    "import pandas as pd"
   ]
  },
  {
   "cell_type": "code",
   "execution_count": 4,
   "id": "161c5eab",
   "metadata": {},
   "outputs": [
    {
     "name": "stdout",
     "output_type": "stream",
     "text": [
      "['__add__', '__class__', '__contains__', '__delattr__', '__dir__', '__doc__', '__eq__', '__format__', '__ge__', '__getattribute__', '__getitem__', '__getnewargs__', '__gt__', '__hash__', '__init__', '__init_subclass__', '__iter__', '__le__', '__len__', '__lt__', '__mod__', '__mul__', '__ne__', '__new__', '__reduce__', '__reduce_ex__', '__repr__', '__rmod__', '__rmul__', '__setattr__', '__sizeof__', '__str__', '__subclasshook__', 'capitalize', 'casefold', 'center', 'count', 'encode', 'endswith', 'expandtabs', 'find', 'format', 'format_map', 'index', 'isalnum', 'isalpha', 'isascii', 'isdecimal', 'isdigit', 'isidentifier', 'islower', 'isnumeric', 'isprintable', 'isspace', 'istitle', 'isupper', 'join', 'ljust', 'lower', 'lstrip', 'maketrans', 'partition', 'replace', 'rfind', 'rindex', 'rjust', 'rpartition', 'rsplit', 'rstrip', 'split', 'splitlines', 'startswith', 'strip', 'swapcase', 'title', 'translate', 'upper', 'zfill']\n"
     ]
    }
   ],
   "source": [
    "print(dir(PIL.__name__))"
   ]
  },
  {
   "cell_type": "code",
   "execution_count": 6,
   "id": "b8a65338",
   "metadata": {},
   "outputs": [],
   "source": [
    "img=Image.open(\"main.png\")"
   ]
  },
  {
   "cell_type": "code",
   "execution_count": 7,
   "id": "0a31ed99",
   "metadata": {},
   "outputs": [
    {
     "data": {
      "image/png": "[encoded data removed]",
      "text/plain": [
       "<PIL.PngImagePlugin.PngImageFile image mode=RGB size=320x213 at 0x1606127CCA0>"
      ]
     },
     "metadata": {},
     "output_type": "display_data"
    }
   ],
   "source": [
    "display(img)"
   ]
  },
  {
   "cell_type": "code",
   "execution_count": 8,
   "id": "72731b15",
   "metadata": {},
   "outputs": [],
   "source": [
    "img_array=np.array(img)"
   ]
  },
  {
   "cell_type": "code",
   "execution_count": 9,
   "id": "5eef8e72",
   "metadata": {},
   "outputs": [
    {
     "name": "stdout",
     "output_type": "stream",
     "text": [
      "[[[  0 175 238]\n",
      "  [  0 175 238]\n",
      "  [  0 175 238]\n",
      "  ...\n",
      "  [  0 175 238]\n",
      "  [  0 175 238]\n",
      "  [  0 175 238]]\n",
      "\n",
      " [[  0 175 238]\n",
      "  [  0 175 238]\n",
      "  [  0 175 238]\n",
      "  ...\n",
      "  [  0 175 238]\n",
      "  [  0 175 238]\n",
      "  [  0 175 238]]\n",
      "\n",
      " [[  0 175 238]\n",
      "  [  0 175 238]\n",
      "  [  0 175 238]\n",
      "  ...\n",
      "  [  0 175 238]\n",
      "  [  0 175 238]\n",
      "  [  0 175 238]]\n",
      "\n",
      " ...\n",
      "\n",
      " [[  1 147 220]\n",
      "  [  1 147 220]\n",
      "  [  1 147 220]\n",
      "  ...\n",
      "  [  1 147 220]\n",
      "  [  1 147 220]\n",
      "  [  1 147 220]]\n",
      "\n",
      " [[  1 147 220]\n",
      "  [  1 147 220]\n",
      "  [  1 147 220]\n",
      "  ...\n",
      "  [  1 147 220]\n",
      "  [  1 147 220]\n",
      "  [  1 147 220]]\n",
      "\n",
      " [[  1 147 220]\n",
      "  [  1 147 220]\n",
      "  [  1 147 220]\n",
      "  ...\n",
      "  [  1 147 220]\n",
      "  [  1 147 220]\n",
      "  [  1 147 220]]]\n"
     ]
    }
   ],
   "source": [
    "print(img_array)"
   ]
  },
  {
   "cell_type": "code",
   "execution_count": 10,
   "id": "56af5112",
   "metadata": {},
   "outputs": [
    {
     "name": "stdout",
     "output_type": "stream",
     "text": [
      "Dimension:-  3\n",
      "Shape:-  (213, 320, 3)\n",
      "Data Type:- uint8\n"
     ]
    }
   ],
   "source": [
    "print(\"Dimension:- \",img_array.ndim)\n",
    "print(\"Shape:- \",img_array.shape)\n",
    "print(\"Data Type:-\",img_array.dtype)"
   ]
  },
  {
   "cell_type": "code",
   "execution_count": 11,
   "id": "61551487",
   "metadata": {},
   "outputs": [],
   "source": [
    "new_array=np.full(img_array.shape,254)"
   ]
  },
  {
   "cell_type": "code",
   "execution_count": 12,
   "id": "1e59e3ba",
   "metadata": {},
   "outputs": [],
   "source": [
    "mod_array=new_array-img_array"
   ]
  },
  {
   "cell_type": "code",
   "execution_count": 13,
   "id": "d6997f25",
   "metadata": {},
   "outputs": [
    {
     "name": "stdout",
     "output_type": "stream",
     "text": [
      "Dimension:-  3\n",
      "Shape:-  (213, 320, 3)\n",
      "Data Type:- int32\n"
     ]
    }
   ],
   "source": [
    "print(\"Dimension:- \",mod_array.ndim)\n",
    "print(\"Shape:- \",mod_array.shape)\n",
    "print(\"Data Type:-\",mod_array.dtype)"
   ]
  },
  {
   "cell_type": "code",
   "execution_count": 14,
   "id": "76956bb5",
   "metadata": {},
   "outputs": [],
   "source": [
    "#chaning the data type of new array\n",
    "mod_array=mod_array.astype(np.uint8)"
   ]
  },
  {
   "cell_type": "code",
   "execution_count": 15,
   "id": "7c66746b",
   "metadata": {},
   "outputs": [],
   "source": [
    "a=Image.fromarray(mod_array)"
   ]
  },
  {
   "cell_type": "code",
   "execution_count": 16,
   "id": "b8e0aeb9",
   "metadata": {},
   "outputs": [
    {
     "data": {
      "image/png": "[encoded data removed]",
      "text/plain": [
       "<PIL.Image.Image image mode=RGB size=320x213 at 0x1607C0B0100>"
      ]
     },
     "metadata": {},
     "output_type": "display_data"
    }
   ],
   "source": [
    "display(a)"
   ]
  },
  {
   "cell_type": "code",
   "execution_count": 17,
   "id": "4ae2cfdd",
   "metadata": {},
   "outputs": [],
   "source": [
    "\n",
    "a.rotate(45).show()"
   ]
  },
  {
   "cell_type": "code",
   "execution_count": null,
   "id": "0b74fcef",
   "metadata": {},
   "outputs": [],
   "source": []
  }
 ],
 "metadata": {
  "kernelspec": {
   "display_name": "Python 3",
   "language": "python",
   "name": "python3"
  },
  "language_info": {
   "codemirror_mode": {
    "name": "ipython",
    "version": 3
   },
   "file_extension": ".py",
   "mimetype": "text/x-python",
   "name": "python",
   "nbconvert_exporter": "python",
   "pygments_lexer": "ipython3",
   "version": "3.8.8"
  }
 },
 "nbformat": 4,
 "nbformat_minor": 5
}
