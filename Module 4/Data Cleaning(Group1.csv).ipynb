{
 "cells": [
  {
   "cell_type": "markdown",
   "id": "8db5267a",
   "metadata": {},
   "source": [
    "# Working on cleaning the data"
   ]
  },
  {
   "cell_type": "code",
   "execution_count": 1,
   "id": "61af91a6",
   "metadata": {},
   "outputs": [],
   "source": [
    "import pandas as pd\n",
    "import random as rd"
   ]
  },
  {
   "cell_type": "code",
   "execution_count": 2,
   "id": "dad0bd64",
   "metadata": {},
   "outputs": [],
   "source": [
    "file=pd.read_csv('group1.csv')"
   ]
  },
  {
   "cell_type": "code",
   "execution_count": 3,
   "id": "58908c8b",
   "metadata": {},
   "outputs": [],
   "source": [
    "file.dropna(inplace=True)\n",
    "file['Age'].dropna(inplace=True)\n",
    "file['Fav Number'].dropna(inplace=True)"
   ]
  },
  {
   "cell_type": "code",
   "execution_count": 4,
   "id": "238ca0a0",
   "metadata": {},
   "outputs": [],
   "source": [
    "file['Name'].fillna('random',inplace=True)\n",
    "file['Hobbies'].fillna('coding',inplace=True)\n",
    "file['Fav Color'].fillna('blackandwhite',inplace=True)"
   ]
  },
  {
   "cell_type": "code",
   "execution_count": 5,
   "id": "f6408e14",
   "metadata": {},
   "outputs": [],
   "source": [
    "#Cleaning age\n",
    "for i in file.index:\n",
    "    a=file.loc[i,\"Age\"]\n",
    "    try:\n",
    "        if int(a)>110:\n",
    "            file.loc[i,\"Age\"]=65\n",
    "    except:\n",
    "        file.loc[i,\"Age\"]=45TT"
   ]
  },
  {
   "cell_type": "code",
   "execution_count": 6,
   "id": "fc3d88ad",
   "metadata": {},
   "outputs": [],
   "source": [
    "#Fav Number Cleaning\n",
    "for i in file.index:\n",
    "    a=file.loc[i,\"Fav Number\"]\n",
    "    try:\n",
    "        if int(a)>0:\n",
    "            pass\n",
    "    except:\n",
    "        file.loc[i,\"Fav Number\"]=rd.randint(1,100)"
   ]
  },
  {
   "cell_type": "code",
   "execution_count": 7,
   "id": "afb7c1b9",
   "metadata": {},
   "outputs": [],
   "source": [
    "#Removing the integer name input\n",
    "for i in file.index:\n",
    "    a=file.loc[i,\"Name\"]\n",
    "    try:\n",
    "        if int(a)>0:\n",
    "            file.loc[i,\"Name\"]=\"Random\"\n",
    "    except:\n",
    "        pass"
   ]
  },
  {
   "cell_type": "code",
   "execution_count": 8,
   "id": "8d4cd856",
   "metadata": {},
   "outputs": [],
   "source": [
    "#Removing the integer color input\n",
    "for i in file.index:\n",
    "    a=file.loc[i,\"Fav Color\"]\n",
    "    try:\n",
    "        if int(a)>0:\n",
    "            file.loc[i,\"Fav Color\"]=\"BlackandWhite\"\n",
    "    except:\n",
    "        pass"
   ]
  },
  {
   "cell_type": "code",
   "execution_count": 9,
   "id": "f0083919",
   "metadata": {},
   "outputs": [],
   "source": [
    "#Data File\n",
    "file.to_csv(\"Datatesting.csv\",index=False)"
   ]
  },
  {
   "cell_type": "code",
   "execution_count": 10,
   "id": "7dd90e6e",
   "metadata": {},
   "outputs": [],
   "source": [
    "#Get all the unique hobbies\n",
    "Uhobbies=[]\n",
    "for i in file.index:\n",
    "    a=file.loc[i,\"Hobbies\"]\n",
    "    if a in Uhobbies:\n",
    "        pass\n",
    "    else:\n",
    "        Uhobbies.append(a)     "
   ]
  },
  {
   "cell_type": "code",
   "execution_count": 30,
   "id": "66b01965",
   "metadata": {},
   "outputs": [
    {
     "name": "stdout",
     "output_type": "stream",
     "text": [
      "All unique Hobbies are:-  ['Reading', 'Gaming', 'Painting', 'Working', 'Chatting', 'Coding', 'Talking', 'Acting', 'Playing', 'Watching TV', 'Eating', 'Reading Books', 'Lisening Songs', 'Sketching', 'Playing Cricket', 'Chit Chat', 'Browsing ', 'Gardening', 'Cooking', 'Baking', 'Hiking', 'Knitting', 'Fishing', 'Collecting money', 'Designing', 'WoodWorking', 'Embroidery', 'Walking', 'Sleeping', 'Video Games', 'Sports', 'Shopping', 'Watching Sports', 'Playing Cards', 'Writing', 'Tennis', 'Dancing', 'Bicycling', 'Socializing', 'Crafting', 'ScrapBooking', 'Journaling', 'Blogging', 'Coloring', 'Videography', 'Playing Instrument', 'Making Candles', 'Making Jewelry', 'Calligraphy', 'Stand Up Comedy', 'Indoor Games', 'Magic Tricks', 'Garnishing', 'Sewing', 'Interior Design', 'Pet Care', 'Biking', 'Swimming', 'Bowling', 'Yoga', 'Meditation', 'Camping', 'Cycling', 'Origami', 'Beat Boxing', 'Sand Art', 'Poetry', 'Vlogging', 'Drawing', 'DressMaker', 'Travelling', 'Chocolate Making', 'Bungee Jumping', 'Cricket', 'Shettle', 'Singing', 'Playing Games', 'Watching Tv', 'Reading Novels', 'Listing Songs', 'Browisng', 'Writing Stories', 'Listening Music', 'Badminton', 'Chess', 'Kho_Kho', 'Playing Guitar', 'Riding Bike', 'Doing Exercise', 'circket', 'books', 'football', 'volley ball', 'kabbadi', 'basketball', 'movies', 'music', 'coin collecting', 'cartophily', 'softball', 'gardening', 'reading books', 'singing', 'dancing', 'circkets', 'poetry', 'jewelry making', 'watching movies', 'art collecting', 'magic', 'makeup', 'meditation', 'modeling', 'miniature art', 'paintings', 'pet adoption', 'wine making', 'article writing', 'horse riding', 'hunting', 'motor sports', 'postcard collectinh', 'knife collecting', 'insect collecting', 'air hockey', 'badminton', 'boxing', 'skating', 'racing', 'modelling', 'table tennis', 'video gaming', 'weightlifting', 'wrestling', 'volley game', 'archery', 'write stories', 'photography', 'shopping', 'sleeping', 'swimming', 'fishing', 'fitness', 'surfing', 'turism', 'tennis', 'candy making', 'coloring', 'story writing', 'diving', 'sand art', 'genealogy', 'knitting', 'karate', 'listening to music', 'lock picking', 'nail art', 'palm reading', 'plastic arts', 'tattooing', 'telling jokes', 'video editing', 'wax ealing', 'Comics', 'Racing', 'Adventure', 'Art', 'Jim', 'Music', 'cricket', 'painting', 'reading', 'games', 'gaming', 'travelling', 'blogging', 'surffing', 'Programming', 'Typing', 'Shoping', 'Photography', 'Calligrapy', 'Potter', 'Skipping', 'Listening Songs', 'Cosplay', 'Documentaries', 'Puzzles', 'Board Games', 'Batminton', 'Hockey', 'Collecting Money', 'Learning New', 'Running', 'Basketball', 'VisitingMuseums', 'Stargazing', 'Writing ', 'Reading ', 'Cooking ', 'Traveling ', 'Dancing ', 'Singing ', 'Drawing ', 'Gardening ', 'Baking ', 'Wood Working ', 'Collecting ', 'Watching movies ', 'Talking ', 'Nail art', 'Listening to music ', 'Swimming ', 'Hockey ', 'Volleyball ', 'Learning language ', 'Mediation ', 'Skipping ', 'chess', 'Creative writing ', 'Crafting ', 'Colouring ', 'Vedio game ', 'Playing drums ', 'Football ', 'Skiing', 'UpCycling ', 'Graphic design ', 'Reading comics', 'Tennis ', 'Walking ', 'Pottery ', 'Photography ', 'Lino cutting ', 'Eating ', 'Hiking ', 'Basketball ', 'Bowling ', 'Riding ', 'Typing ', 'Makeup ', 'Calligraphy ', 'Volunteering ', 'Candle making ', 'Cake making ', 'Sewing ', 'Designing ', 'Cycling ', 'Sleeping ', 'Knitting ', 'Coding ', 'Meditation ', ' Refinishing Furniture', ' Flea Market Shopping', ' Catering', ' Making Music', 'Tapping Maple Trees', ' Bartending', ' Wine Making', ' Playing The Stock Market', ' Becoming A Local Guide', ' Pursuing Credit Card Rewards', 'Social Media', ' Buying And Selling', ' Credit Card Collecting', ' Creating And/Or Editing Videos', 'Taking Paid Surveys', ' Beekeeping', ' Public Speaking', ' Programming', 'Proofreading And Editing', ' Coding', 'Tattooing', 'Performing Stand Up Comedy', ' Drive Others Around', ' Graphic Design', ' Making T-Shirts', ' Becoming A Fitness Instructor', ' Starting A YouTube Channel', ' Being A Handyman', ' Decorating Homes', ' Reviewing Things', 'Pet Sitting', 'Flipping Items', 'Beekeeping', 'Public Speaking', 'Drive Others Around', 'drawing', 'baking', 'cooking', 'writing stories', 'reading novels', 'danving', 'Giving Advice Or Opinions', 'Create Or Sell Pet Clothing', 'playing video games', 'Computer Technician', 'Auto Detailing', 'Teaching And Tutoring Music', 'Starting A YouTube Channel', 'pottery', 'research on science', 'cleaning', 'Decorating Homes', 'Reviewing Things', 'making videos', 'Becoming A Local Guide', 'Pursuing Credit Card Rewards', 'editing videos', 'Ice Fishing', 'Kitesurfing', 'Motocross', 'Paragliding', 'Skeet Shooting', 'video games', 'Orienteering Sports', 'Drag Boat Racing', 'Cartooning & Animation', 'Writing Music', 'tutoring children', 'Flower Arranging', 'Couponing', 'Mobile Technician']\n",
      "323\n"
     ]
    }
   ],
   "source": [
    "print(\"All unique Hobbies are:- \",Uhobbies)  "
   ]
  },
  {
   "cell_type": "code",
   "execution_count": 12,
   "id": "68a3ba89",
   "metadata": {},
   "outputs": [],
   "source": [
    "#Most favourate number from data\n",
    "MfavNum=[]\n",
    "for i in file.index:\n",
    "    a=file.loc[i,\"Fav Number\"]\n",
    "    MfavNum.append(int(a))     "
   ]
  },
  {
   "cell_type": "code",
   "execution_count": 13,
   "id": "57297455",
   "metadata": {},
   "outputs": [],
   "source": [
    "#Creating new list contains only one fav number (no repeating)\n",
    "Num=[]\n",
    "for i in MfavNum:\n",
    "    if i in Num:\n",
    "        pass\n",
    "    else:\n",
    "        Num.append(i)\n",
    "\n",
    "#Calculating the most appeared element        \n",
    "res=0\n",
    "for i in Num:\n",
    "    counts=MfavNum.count(i)\n",
    "    if res<counts:\n",
    "        res=counts\n",
    "        ele=i        "
   ]
  },
  {
   "cell_type": "code",
   "execution_count": 14,
   "id": "c9a2b15b",
   "metadata": {},
   "outputs": [
    {
     "name": "stdout",
     "output_type": "stream",
     "text": [
      "The Most Favourate Number is :-  5\n"
     ]
    }
   ],
   "source": [
    "print(\"The Most Favourate Number is :- \",ele)"
   ]
  },
  {
   "cell_type": "code",
   "execution_count": 28,
   "id": "47fb750a",
   "metadata": {},
   "outputs": [],
   "source": [
    "#Separate the data with age <15 and coding as hobby\n",
    "data=[]\n",
    "for i in file.index:\n",
    "    age=file.loc[i,\"Age\"]\n",
    "    hobbies=file.loc[i,\"Hobbies\"]\n",
    "    if int(age)<15 and hobbies.capitalize()=='Coding':\n",
    "        c=[file.loc[i,\"Name\"],age,hobbies,file.loc[i,\"Fav Color\"],file.loc[i,\"Fav Number\"]]\n",
    "        data.append(c)"
   ]
  },
  {
   "cell_type": "code",
   "execution_count": 29,
   "id": "d8a31b0e",
   "metadata": {},
   "outputs": [
    {
     "name": "stdout",
     "output_type": "stream",
     "text": [
      "Person with age less than 15 and coding as hobbies are:- \n",
      "['Rajendra', '11', 'Coding', 'Gold', '20']\n",
      "['Krishna', '14', 'Coding', 'Brick Pink', '15']\n"
     ]
    }
   ],
   "source": [
    "print(\"Person with age less than 15 and coding as hobbies are:- \")\n",
    "for i in data:\n",
    "    print(i)"
   ]
  },
  {
   "cell_type": "code",
   "execution_count": 22,
   "id": "160cf325",
   "metadata": {},
   "outputs": [],
   "source": [
    "#Calculate average age of the dataset\n",
    "Age_data=[]\n",
    "for i in file.index:\n",
    "    a=file.loc[i,\"Age\"]\n",
    "    Age_data.append(int(a))   \n",
    "    \n",
    "avg=0\n",
    "for i in Age_data:\n",
    "    avg=avg+i\n",
    "avg=avg//len(Age_data)    "
   ]
  },
  {
   "cell_type": "code",
   "execution_count": 23,
   "id": "70d2fea2",
   "metadata": {},
   "outputs": [
    {
     "name": "stdout",
     "output_type": "stream",
     "text": [
      "The average height of the age data is:-  43\n"
     ]
    }
   ],
   "source": [
    "print(\"The average height of the age data is:- \",avg)"
   ]
  },
  {
   "cell_type": "code",
   "execution_count": 26,
   "id": "5a2424ec",
   "metadata": {},
   "outputs": [],
   "source": [
    "#How many people have hobby as travelling\n",
    "hobbies_data=[]\n",
    "for i in file.index:\n",
    "    hobbies=file.loc[i,\"Hobbies\"]\n",
    "    if hobbies.lower()=='travelling':\n",
    "        c=[file.loc[i,\"Name\"],file.loc[i,\"Age\"],file.loc[i,\"Hobbies\"],file.loc[i,\"Fav Number\"],file.loc[i,\"Fav Color\"]]\n",
    "        hobbies_data.append(c)"
   ]
  },
  {
   "cell_type": "code",
   "execution_count": 27,
   "id": "28962bb9",
   "metadata": {},
   "outputs": [
    {
     "name": "stdout",
     "output_type": "stream",
     "text": [
      "The People's who hobbies are travelling are:- \n",
      "['Varsha', '54', 'Travelling', '4', 'Navy Blue']\n",
      "['Dharini', 45, 'Travelling', '2', 'Yellow']\n",
      "['Karim', '100', 'Travelling', '8', 'Indigo']\n",
      "['Vamsi', '32', 'Travelling', '6', 'Brown']\n",
      "['Manikanta', '24', 'Travelling', 15, 'Indigo']\n",
      "['Ramu', '80', 'Travelling', '4', 'Sky Blue']\n",
      "['Srivani', '49', 'Travelling', '2', 'Green']\n",
      "['Sruthi', '89', 'Travelling', '10', 'Dark Purple']\n",
      "['Lakshmi', '24', 'Travelling', '8', 'Brown']\n",
      "['Jyothi', '50', 'Travelling', '2', 'Baby Blue']\n",
      "['Latha', '17', 'Travelling', '1', 'Purple']\n",
      "['Sundar', '105', 'Travelling', '3', 'Dark Blue']\n",
      "['saritha', '23', 'travelling', '33', 'green']\n",
      "['khan', '92', 'travelling', '555', 'yellow']\n",
      "['saritha', '23', 'travelling', '33', 'green']\n",
      "['Varshitha', '20', 'Travelling', '8', 'Pink']\n",
      "['Prema', '6', 'Travelling', '94', 'Fossil']\n"
     ]
    }
   ],
   "source": [
    "print(\"The People's who hobbies are travelling are:- \")\n",
    "for i in hobbies_data:\n",
    "    print(i)"
   ]
  }
 ],
 "metadata": {
  "kernelspec": {
   "display_name": "Python 3",
   "language": "python",
   "name": "python3"
  },
  "language_info": {
   "codemirror_mode": {
    "name": "ipython",
    "version": 3
   },
   "file_extension": ".py",
   "mimetype": "text/x-python",
   "name": "python",
   "nbconvert_exporter": "python",
   "pygments_lexer": "ipython3",
   "version": "3.8.8"
  }
 },
 "nbformat": 4,
 "nbformat_minor": 5
}
