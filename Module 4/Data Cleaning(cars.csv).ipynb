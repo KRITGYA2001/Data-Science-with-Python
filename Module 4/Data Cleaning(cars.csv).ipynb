{
 "cells": [
  {
   "cell_type": "code",
   "execution_count": 2,
   "id": "2148f604",
   "metadata": {},
   "outputs": [],
   "source": [
    "import pandas as pd\n",
    "import random as rd"
   ]
  },
  {
   "cell_type": "code",
   "execution_count": 36,
   "id": "bee84a6c",
   "metadata": {},
   "outputs": [],
   "source": [
    "file=pd.read_csv(\"cars.csv\")"
   ]
  },
  {
   "cell_type": "code",
   "execution_count": 25,
   "id": "bf8624c5",
   "metadata": {},
   "outputs": [],
   "source": [
    "file.dropna(inplace=True)"
   ]
  },
  {
   "cell_type": "code",
   "execution_count": 29,
   "id": "97421ada",
   "metadata": {},
   "outputs": [],
   "source": [
    "file['distance'].fillna(12,inplace=True)\n",
    "file['consume'].fillna(11,inplace=True)"
   ]
  },
  {
   "cell_type": "code",
   "execution_count": 37,
   "id": "caf8141d",
   "metadata": {},
   "outputs": [],
   "source": [
    "#Cleaning distance\n",
    "for i in file.index:\n",
    "    a=file.loc[i,\"distance\"]\n",
    "    try:\n",
    "        if int(a)>0:\n",
    "            file.loc[i,\"distance\"]=rd.randint(1,100)\n",
    "    except:\n",
    "        file.loc[i,\"distance\"]=rd.randint(1,100)"
   ]
  },
  {
   "cell_type": "code",
   "execution_count": 38,
   "id": "32dd9be9",
   "metadata": {},
   "outputs": [],
   "source": [
    "#Cleaning consume\n",
    "for i in file.index:\n",
    "    a=file.loc[i,\"consume\"]\n",
    "    try:\n",
    "        if int(a)>0:\n",
    "            pass\n",
    "    except:\n",
    "        file.loc[i,\"consume\"]=rd.randint(1,100)"
   ]
  },
  {
   "cell_type": "code",
   "execution_count": 39,
   "id": "91acf0b1",
   "metadata": {},
   "outputs": [],
   "source": [
    "#Data File\n",
    "file.to_csv(\"carsample.csv\",index=False)"
   ]
  },
  {
   "cell_type": "code",
   "execution_count": 2,
   "id": "45b1c563",
   "metadata": {},
   "outputs": [
    {
     "name": "stdout",
     "output_type": "stream",
     "text": [
      "😀\n"
     ]
    }
   ],
   "source": [
    "print(\"\\U0001f600\")"
   ]
  },
  {
   "cell_type": "code",
   "execution_count": null,
   "id": "93464401",
   "metadata": {},
   "outputs": [],
   "source": [
    "# checking the distribution of categorical data\n",
    "print(car_dataset.Fuel_Type.value_counts())\n",
    "print(car_dataset.Seller_Type.value_counts())\n",
    "print(car_dataset.Transmission.value_counts())"
   ]
  },
  {
   "cell_type": "code",
   "execution_count": null,
   "id": "a4082daa",
   "metadata": {},
   "outputs": [],
   "source": [
    "# encoding \"Fuel_Type\" Column\n",
    "car_dataset.replace({'Fuel_Type':{'Petrol':0,'Diesel':1,'CNG':2}},inplace=True)\n",
    "\n",
    "# encoding \"Seller_Type\" Column\n",
    "car_dataset.replace({'Seller_Type':{'Dealer':0,'Individual':1}},inplace=True)\n",
    "\n",
    "# encoding \"Transmission\" Column\n",
    "car_dataset.replace({'Transmission':{'Manual':0,'Automatic':1}},inplace=True)"
   ]
  },
  {
   "cell_type": "code",
   "execution_count": null,
   "id": "9deeda80",
   "metadata": {},
   "outputs": [],
   "source": []
  }
 ],
 "metadata": {
  "kernelspec": {
   "display_name": "Python 3",
   "language": "python",
   "name": "python3"
  },
  "language_info": {
   "codemirror_mode": {
    "name": "ipython",
    "version": 3
   },
   "file_extension": ".py",
   "mimetype": "text/x-python",
   "name": "python",
   "nbconvert_exporter": "python",
   "pygments_lexer": "ipython3",
   "version": "3.8.8"
  }
 },
 "nbformat": 4,
 "nbformat_minor": 5
}
