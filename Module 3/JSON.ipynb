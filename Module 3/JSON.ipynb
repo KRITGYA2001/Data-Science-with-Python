{
 "cells": [
  {
   "cell_type": "markdown",
   "id": "15812583",
   "metadata": {},
   "source": [
    "# JSON(JavaScript Object Notation)"
   ]
  },
  {
   "cell_type": "code",
   "execution_count": 1,
   "id": "e3c63533",
   "metadata": {},
   "outputs": [],
   "source": [
    "#Lightweight and Easy to Read/Write\n",
    "#json takes (string,Numbers,null,arrays,objects)"
   ]
  },
  {
   "cell_type": "raw",
   "id": "1a6638ab",
   "metadata": {},
   "source": [
    "json.loads() = It is used to convert a json string to an dict.\n",
    "json.dump() = It is used to convert a dict. to an json string.\n",
    "json.load() = It is used to read a file which contains an json object."
   ]
  },
  {
   "cell_type": "code",
   "execution_count": 2,
   "id": "9d57afd3",
   "metadata": {},
   "outputs": [],
   "source": [
    "import json"
   ]
  },
  {
   "cell_type": "code",
   "execution_count": 18,
   "id": "c7462611",
   "metadata": {},
   "outputs": [],
   "source": [
    "dict_name = '{\"name\":\"a\",\"age\":20,\"loc\":\"India\"}'"
   ]
  },
  {
   "cell_type": "code",
   "execution_count": 19,
   "id": "68284f03",
   "metadata": {},
   "outputs": [
    {
     "name": "stdout",
     "output_type": "stream",
     "text": [
      "<class 'str'>\n"
     ]
    }
   ],
   "source": [
    "print(type(dict_name))"
   ]
  },
  {
   "cell_type": "code",
   "execution_count": 20,
   "id": "42586001",
   "metadata": {},
   "outputs": [],
   "source": [
    "#We need to convert the normal dict into json dict\n",
    "data=json.loads(dict_name)"
   ]
  },
  {
   "cell_type": "code",
   "execution_count": 21,
   "id": "de94d306",
   "metadata": {},
   "outputs": [
    {
     "name": "stdout",
     "output_type": "stream",
     "text": [
      "a\n",
      "20\n"
     ]
    }
   ],
   "source": [
    "print(data[\"name\"])\n",
    "print(data[\"age\"])"
   ]
  },
  {
   "cell_type": "code",
   "execution_count": 22,
   "id": "85749ede",
   "metadata": {},
   "outputs": [],
   "source": [
    "#To create json file\n",
    "file=open(\"JSONtesting.json\",'w')"
   ]
  },
  {
   "cell_type": "code",
   "execution_count": 24,
   "id": "306aa639",
   "metadata": {},
   "outputs": [],
   "source": [
    "file.write(json.dumps(data))\n",
    "file.close()"
   ]
  },
  {
   "cell_type": "code",
   "execution_count": 27,
   "id": "a64eda5b",
   "metadata": {},
   "outputs": [
    {
     "name": "stdout",
     "output_type": "stream",
     "text": [
      "{'name': 'a', 'age': 20, 'loc': 'India'}\n"
     ]
    }
   ],
   "source": [
    "#Reading a file\n",
    "file=open(\"JSONtesting.json\",'r')\n",
    "print(json.loads(file.read()))"
   ]
  },
  {
   "cell_type": "code",
   "execution_count": 28,
   "id": "597b9d6b",
   "metadata": {},
   "outputs": [],
   "source": [
    "data1={\"name\":\"a\",\"age\":10,\"loc\":\"India\"}\n",
    "data2={\"name\":\"b\",\"age\":12,\"loc\":\"Japan\"}\n",
    "data3={\"name\":'c',\"age\":14,\"loc\":\"USA\"}"
   ]
  },
  {
   "cell_type": "code",
   "execution_count": 38,
   "id": "f552b477",
   "metadata": {},
   "outputs": [],
   "source": [
    "file=open(\"JSONtesting.json\",'w')"
   ]
  },
  {
   "cell_type": "code",
   "execution_count": 39,
   "id": "6c1470d0",
   "metadata": {},
   "outputs": [],
   "source": [
    "nested_dict = { 'data1': {\"name\":\"a\",\"age\":10,\"loc\":\"India\"},\n",
    "                'data2': {\"name\":\"b\",\"age\":12,\"loc\":\"Japan\"},\n",
    "                'data3': {\"name\":'c',\"age\":14,\"loc\":\"USA\"}}"
   ]
  },
  {
   "cell_type": "code",
   "execution_count": 40,
   "id": "d2a8bcb4",
   "metadata": {},
   "outputs": [],
   "source": [
    "file.write(json.dumps(nested_dict))\n",
    "file.close()"
   ]
  },
  {
   "cell_type": "code",
   "execution_count": 42,
   "id": "45f71679",
   "metadata": {},
   "outputs": [],
   "source": [
    "#Reading a file\n",
    "file=open(\"JSONtesting.json\",'r')\n",
    "a=json.loads(file.read())"
   ]
  },
  {
   "cell_type": "code",
   "execution_count": 48,
   "id": "e63a93bb",
   "metadata": {},
   "outputs": [
    {
     "name": "stdout",
     "output_type": "stream",
     "text": [
      "('data1', {'name': 'a', 'age': 10, 'loc': 'India'})\n",
      "('data2', {'name': 'b', 'age': 12, 'loc': 'Japan'})\n",
      "('data3', {'name': 'c', 'age': 14, 'loc': 'USA'})\n"
     ]
    }
   ],
   "source": [
    "for i in a.items():\n",
    "    print(i)"
   ]
  },
  {
   "cell_type": "code",
   "execution_count": null,
   "id": "47830b48",
   "metadata": {},
   "outputs": [],
   "source": []
  }
 ],
 "metadata": {
  "kernelspec": {
   "display_name": "Python 3",
   "language": "python",
   "name": "python3"
  },
  "language_info": {
   "codemirror_mode": {
    "name": "ipython",
    "version": 3
   },
   "file_extension": ".py",
   "mimetype": "text/x-python",
   "name": "python",
   "nbconvert_exporter": "python",
   "pygments_lexer": "ipython3",
   "version": "3.8.8"
  }
 },
 "nbformat": 4,
 "nbformat_minor": 5
}
