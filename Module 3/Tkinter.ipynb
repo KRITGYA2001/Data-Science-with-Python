{
 "cells": [
  {
   "cell_type": "code",
   "execution_count": 2,
   "id": "306881dd",
   "metadata": {},
   "outputs": [],
   "source": [
    "import tkinter as tk\n",
    "from tkinter import messagebox\n",
    "import time"
   ]
  },
  {
   "cell_type": "markdown",
   "id": "892b990c",
   "metadata": {},
   "source": [
    "pack() method:It organizes the widgets in blocks before placing in the parent widget."
   ]
  },
  {
   "cell_type": "markdown",
   "id": "6e000d20",
   "metadata": {},
   "source": [
    "grid() method:It organizes the widgets in grid (table-like structure) before placing in the parent widget."
   ]
  },
  {
   "cell_type": "markdown",
   "id": "d61a9348",
   "metadata": {},
   "source": [
    "place() method:It organizes the widgets by placing them on specific positions directed by the programmer."
   ]
  },
  {
   "cell_type": "markdown",
   "id": "081c3b79",
   "metadata": {},
   "source": [
    "# Creating the Windows"
   ]
  },
  {
   "cell_type": "code",
   "execution_count": 2,
   "id": "40b255b9",
   "metadata": {},
   "outputs": [],
   "source": [
    "x=tk.Tk()          #Window creating command\n",
    "x.mainloop()       #close is mandatory"
   ]
  },
  {
   "cell_type": "markdown",
   "id": "a3da5586",
   "metadata": {},
   "source": [
    "# Writing the text in the Windows"
   ]
  },
  {
   "cell_type": "markdown",
   "id": "67f6872c",
   "metadata": {},
   "source": [
    "# Label Function"
   ]
  },
  {
   "cell_type": "code",
   "execution_count": 4,
   "id": "342f1d55",
   "metadata": {},
   "outputs": [],
   "source": [
    "x=tk.Tk()\n",
    "y=tk.Label(text=\"Testing Windows\")\n",
    "y.pack()            #packing is important for every variable\n",
    "x.mainloop()"
   ]
  },
  {
   "cell_type": "markdown",
   "id": "a58b9f7a",
   "metadata": {},
   "source": [
    "Designing the Label function"
   ]
  },
  {
   "cell_type": "code",
   "execution_count": 6,
   "id": "4876a7f2",
   "metadata": {},
   "outputs": [],
   "source": [
    "#fg = foreground     \n",
    "#bg = background\n",
    "x=tk.Tk()\n",
    "y=tk.Label(text=\"Testing Windows\",foreground=\"black\",background=\"white\").pack()\n",
    "x.mainloop()"
   ]
  },
  {
   "cell_type": "code",
   "execution_count": 7,
   "id": "fef6e044",
   "metadata": {},
   "outputs": [],
   "source": [
    "x=tk.Tk()\n",
    "y=tk.Label(text=\"Testing Windows\",fg=\"black\",bg=\"white\").pack()\n",
    "x.mainloop()"
   ]
  },
  {
   "cell_type": "code",
   "execution_count": 8,
   "id": "97cb2acb",
   "metadata": {},
   "outputs": [],
   "source": [
    "x=tk.Tk()\n",
    "y=tk.Label(text=\"Testing Windows\",fg=\"cyan\",bg=\"yellow\",height=20,width=30).pack()\n",
    "x.mainloop()"
   ]
  },
  {
   "cell_type": "code",
   "execution_count": 10,
   "id": "71cc9aac",
   "metadata": {},
   "outputs": [],
   "source": [
    "#Giving Window a Name\n",
    "x=tk.Tk()\n",
    "x.title(\"Demo Windows\")           #title is used to give window name\n",
    "y=tk.Label(text=\"Testing Windows\",fg=\"cyan\",bg=\"yellow\").pack()\n",
    "x.mainloop()"
   ]
  },
  {
   "cell_type": "code",
   "execution_count": 14,
   "id": "09819113",
   "metadata": {},
   "outputs": [],
   "source": [
    "#Changing the font style\n",
    "x=tk.Tk()\n",
    "x.title(\"Demo Windows\")\n",
    "y=tk.Label(text=\"Testing Windows\",fg=\"cyan\",bg=\"Yellow\",height=10,width=30,font=(\"Amiri\",30)).pack()\n",
    "x.mainloop()"
   ]
  },
  {
   "cell_type": "markdown",
   "id": "437b0cb6",
   "metadata": {},
   "source": [
    "# Button Function"
   ]
  },
  {
   "cell_type": "code",
   "execution_count": 21,
   "id": "6de63f21",
   "metadata": {},
   "outputs": [],
   "source": [
    "x=tk.Tk()\n",
    "x.title(\"Button Window\")\n",
    "y=tk.Button(text=\"Testing\").pack()\n",
    "x.mainloop()"
   ]
  },
  {
   "cell_type": "markdown",
   "id": "bc6dbf5f",
   "metadata": {},
   "source": [
    "Designing the Button function"
   ]
  },
  {
   "cell_type": "code",
   "execution_count": 23,
   "id": "497f8d68",
   "metadata": {},
   "outputs": [],
   "source": [
    "x=tk.Tk()\n",
    "y=tk.Button(text=\"Button\",bg=\"black\",fg=\"white\").pack()\n",
    "x.mainloop()"
   ]
  },
  {
   "cell_type": "code",
   "execution_count": 65,
   "id": "a0ee6c74",
   "metadata": {},
   "outputs": [],
   "source": [
    "x=tk.Tk()\n",
    "x.title(\"Demo\")\n",
    "y=tk.Button(text=\"Submit\",activebackground=\"cyan\",activeforeground=\"pink\",bg=\"green\",width=25,command=x.destroy).pack()\n",
    "x.mainloop()"
   ]
  },
  {
   "cell_type": "code",
   "execution_count": 26,
   "id": "58d18d56",
   "metadata": {},
   "outputs": [
    {
     "name": "stdout",
     "output_type": "stream",
     "text": [
      "Testing Data Printing\n",
      "Testing Data Printing\n",
      "Testing Data Printing\n",
      "Testing Data Printing\n",
      "Testing Data Printing\n",
      "Testing Data Printing\n",
      "Testing Data Printing\n",
      "Testing Data Printing\n",
      "Testing Data Printing\n",
      "Testing Data Printing\n",
      "Testing Data Printing\n",
      "Testing Data Printing\n",
      "Testing Data Printing\n",
      "Testing Data Printing\n",
      "Testing Data Printing\n",
      "Testing Data Printing\n",
      "Testing Data Printing\n"
     ]
    }
   ],
   "source": [
    "def add():\n",
    "    print(\"Testing Data Printing\")\n",
    "    \n",
    "x=tk.Tk()\n",
    "y=tk.Label(text=\"This is a testing Window\").pack()\n",
    "z=tk.Button(text=\"Button\",bg='red',fg=\"cyan\",command=add).pack()\n",
    "x.mainloop()"
   ]
  },
  {
   "cell_type": "markdown",
   "id": "d5b53811",
   "metadata": {},
   "source": [
    "# Entry Button"
   ]
  },
  {
   "cell_type": "code",
   "execution_count": 2,
   "id": "9aedd62f",
   "metadata": {},
   "outputs": [],
   "source": [
    "#Entry button doesn't have height column\n",
    "x=tk.Tk()\n",
    "x.title(\"Window\")\n",
    "y=tk.Entry(fg=\"black\",bg=\"red\").pack()\n",
    "z=tk.Button(text=\"Submit\").pack()\n",
    "x.mainloop()"
   ]
  },
  {
   "cell_type": "code",
   "execution_count": 81,
   "id": "230b7c8c",
   "metadata": {},
   "outputs": [],
   "source": [
    "x=tk.Tk()\n",
    "x.title(\"Demo\")\n",
    "y=tk.Label(text=\"First Name\").grid(row=0)\n",
    "z=tk.Label(text=\"Second Name\").grid(row=1)\n",
    "e1=tk.Entry().grid(row=0,column=1)\n",
    "\n",
    "e2=tk.Entry().grid(row=1,column=1)\n",
    "x.mainloop()"
   ]
  },
  {
   "cell_type": "code",
   "execution_count": 9,
   "id": "2cf14546",
   "metadata": {},
   "outputs": [
    {
     "name": "stdout",
     "output_type": "stream",
     "text": [
      "esg\n"
     ]
    }
   ],
   "source": [
    "def fun():\n",
    "    c=z.get()\n",
    "    print(c)\n",
    "#Input values    \n",
    "x=tk.Tk()\n",
    "y=tk.Label(text=\"Testing\").pack()\n",
    "e=tk.Button(text=\"Print\",command=fun).pack()\n",
    "z=tk.Entry()\n",
    "z.pack()\n",
    "x.mainloop()"
   ]
  },
  {
   "cell_type": "code",
   "execution_count": 22,
   "id": "36b01ed6",
   "metadata": {},
   "outputs": [],
   "source": [
    "#Destroying the window\n",
    "x=tk.Tk()\n",
    "y=tk.Label(text=\"Testing\").pack()\n",
    "x.destroy()\n",
    "x.mainloop()"
   ]
  },
  {
   "cell_type": "markdown",
   "id": "e17b10a3",
   "metadata": {},
   "source": [
    "# Setting Position of Label,Entry,Button"
   ]
  },
  {
   "cell_type": "code",
   "execution_count": 46,
   "id": "6f32724e",
   "metadata": {},
   "outputs": [],
   "source": [
    "x=tk.Tk()\n",
    "x.title(\"Demo\")\n",
    "x.geometry('300x300')\n",
    "y=tk.Label(text=\"Testing\",bg=\"red\",fg=\"yellow\",height=1,width=8).place(x=120,y=0)\n",
    "z=tk.Entry().place(x=45,y=28)\n",
    "v=tk.Button(text=\"Testing\",bg='black',fg=\"cyan\").place(x=175,y=25)\n",
    "x.mainloop()"
   ]
  },
  {
   "cell_type": "code",
   "execution_count": 48,
   "id": "6bbaa477",
   "metadata": {},
   "outputs": [
    {
     "data": {
      "text/plain": [
       "''"
      ]
     },
     "execution_count": 48,
     "metadata": {},
     "output_type": "execute_result"
    }
   ],
   "source": [
    "tk.messagebox.showwarning(\"Warning\",\"*****************\")\n",
    "#(\"Box name\",\"Value or text\")"
   ]
  },
  {
   "cell_type": "markdown",
   "id": "665a6f5f",
   "metadata": {},
   "source": [
    "# CheckButton"
   ]
  },
  {
   "cell_type": "markdown",
   "id": "03ba712a",
   "metadata": {},
   "source": [
    "CheckButton :- To select any number of options by displaying a number of options to a user as toggle buttonns. \n",
    "\n",
    "Syntax:- w= CheckButton(master,option=value)"
   ]
  },
  {
   "cell_type": "code",
   "execution_count": 75,
   "id": "2cee4cb4",
   "metadata": {},
   "outputs": [],
   "source": [
    "x=tk.Tk()\n",
    "var1=tk.IntVar()\n",
    "a=tk.Checkbutton(text=\"Male\",variable=var1).grid(row=0,sticky=tk.W)\n",
    "x.mainloop()"
   ]
  },
  {
   "cell_type": "markdown",
   "id": "e581f7c1",
   "metadata": {},
   "source": [
    "# Frame"
   ]
  },
  {
   "cell_type": "markdown",
   "id": "ec26f860",
   "metadata": {},
   "source": [
    "It acts as a container to hold widgets.It is used for grouping and organizing the widgets.The general syntax is:\n",
    "\n",
    "w=Frame(master,option=value)\n",
    "master is the parameter used to represent the parent window"
   ]
  },
  {
   "cell_type": "code",
   "execution_count": 108,
   "id": "f20326dd",
   "metadata": {},
   "outputs": [],
   "source": [
    "x=tk.Tk()\n",
    "x.title(\"Demo\")\n",
    "y=tk.Frame().pack()\n",
    "redbutton = tk.Button(y, text = 'Red', fg ='red')\n",
    "redbutton.pack( side = tk.LEFT)\n",
    "greenbutton = tk.Button(y, text = 'Brown', fg='brown')\n",
    "greenbutton.pack( side = tk.LEFT )\n",
    "bluebutton = tk.Button(y, text ='Blue', fg ='blue')\n",
    "bluebutton.pack( side = tk.LEFT )\n",
    "x.mainloop()"
   ]
  },
  {
   "cell_type": "markdown",
   "id": "02da70dc",
   "metadata": {},
   "source": [
    "# Message"
   ]
  },
  {
   "cell_type": "markdown",
   "id": "775551f6",
   "metadata": {},
   "source": [
    "It refers to the multi-line and non-editable text.It works same as that of Label.\n",
    "\n",
    "Syntax:- w=tk.Message(option=Value)"
   ]
  },
  {
   "cell_type": "raw",
   "id": "62526625",
   "metadata": {},
   "source": [
    "bd: to set the border around the indicator.\n",
    "bg: to set he normal background color.\n",
    "font: to set the font on the button label.\n",
    "image: to set the image on the widget.\n",
    "width: to set the width of the widget.\n",
    "height: to set the height of the widget."
   ]
  },
  {
   "cell_type": "code",
   "execution_count": 116,
   "id": "f86aef66",
   "metadata": {},
   "outputs": [],
   "source": [
    "x=tk.Tk()\n",
    "y=tk.Message(text=\"Testing Box\",bg='lightgreen').pack(side=tk.LEFT)\n",
    "x.mainloop()"
   ]
  },
  {
   "cell_type": "code",
   "execution_count": 3,
   "id": "03605171",
   "metadata": {},
   "outputs": [
    {
     "name": "stdout",
     "output_type": "stream",
     "text": [
      "First Name: fesfs\n",
      "Last Name: fsefs\n"
     ]
    }
   ],
   "source": [
    "import tkinter as tk\n",
    "\n",
    "def show_entry_fields():\n",
    "    print(\"First Name: %s\\nLast Name: %s\" % (e1.get(), e2.get()))\n",
    "\n",
    "master = tk.Tk()\n",
    "tk.Label(master,text=\"First Name\").grid(row=0)\n",
    "tk.Label(master,text=\"Last Name\").grid(row=1)\n",
    "\n",
    "e1 = tk.Entry(master)\n",
    "e2 = tk.Entry(master)\n",
    "\n",
    "e1.grid(row=0,column=1)\n",
    "e2.grid(row=1,column=1)\n",
    "\n",
    "tk.Button(master,text='Quit',command=master.destroy).grid(row=3,column=0,sticky=tk.W, pady=4)\n",
    "tk.Button(master,text='Show',command=show_entry_fields).grid(row=3,column=1,sticky=tk.W,pady=4)\n",
    "\n",
    "tk.mainloop()"
   ]
  },
  {
   "cell_type": "code",
   "execution_count": null,
   "id": "b2bce2d8",
   "metadata": {},
   "outputs": [],
   "source": []
  },
  {
   "cell_type": "code",
   "execution_count": null,
   "id": "bfcc63a1",
   "metadata": {},
   "outputs": [],
   "source": []
  }
 ],
 "metadata": {
  "kernelspec": {
   "display_name": "Python 3",
   "language": "python",
   "name": "python3"
  },
  "language_info": {
   "codemirror_mode": {
    "name": "ipython",
    "version": 3
   },
   "file_extension": ".py",
   "mimetype": "text/x-python",
   "name": "python",
   "nbconvert_exporter": "python",
   "pygments_lexer": "ipython3",
   "version": "3.8.8"
  }
 },
 "nbformat": 4,
 "nbformat_minor": 5
}
