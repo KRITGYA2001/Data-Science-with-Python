{
 "cells": [
  {
   "cell_type": "code",
   "execution_count": 2,
   "id": "c66ff473",
   "metadata": {},
   "outputs": [],
   "source": [
    "import sqlite3"
   ]
  },
  {
   "cell_type": "code",
   "execution_count": 3,
   "id": "3dacee15",
   "metadata": {},
   "outputs": [],
   "source": [
    "#Connecting the database \n",
    "#Creating the database (file name)\n",
    "con=sqlite3.connect(\"DBtesting1.csv\")"
   ]
  },
  {
   "cell_type": "markdown",
   "id": "a10aef9e",
   "metadata": {},
   "source": [
    "execute keyword is used to run sql command"
   ]
  },
  {
   "cell_type": "code",
   "execution_count": 6,
   "id": "49e478b1",
   "metadata": {},
   "outputs": [],
   "source": [
    "#Create Table\n",
    "con.execute('''CREATE TABLE COMPANY (empid INT PRIMARY KEY NOT NULL,name TEXT NOT NULL,post TEXT NOT NULL,salary INT NOT NULL)''');"
   ]
  },
  {
   "cell_type": "code",
   "execution_count": null,
   "id": "f62855bc",
   "metadata": {},
   "outputs": [],
   "source": [
    "#INT TEXT CHAR(size)\n",
    "#PRIMARY KEY\n",
    "#NOT NULL"
   ]
  },
  {
   "cell_type": "code",
   "execution_count": 8,
   "id": "461c8f92",
   "metadata": {},
   "outputs": [],
   "source": [
    "#if table already exits\n",
    "con.execute('''CREATE TABLE IF NOT EXISTS COMPANY (empid INT PRIMARY KEY NOT NULL,name TEXT NOT NULL,post TEXT NOT NULL,salary INT NOT NULL)''');"
   ]
  },
  {
   "cell_type": "code",
   "execution_count": 9,
   "id": "4247917e",
   "metadata": {},
   "outputs": [],
   "source": [
    "#commit keyword is used to insert data/reflect the data into database file"
   ]
  },
  {
   "cell_type": "code",
   "execution_count": 11,
   "id": "0ec9250f",
   "metadata": {},
   "outputs": [],
   "source": [
    "#Inserting the data\n",
    "con.execute(\"INSERT INTO COMPANY (empid,name,post,salary) VALUES(1,'a','SI','10')\");\n",
    "con.execute(\"INSERT INTO COMPANY (empid,name,post,salary) VALUES(2,'b','HC','15')\");\n",
    "con.execute(\"INSERT INTO COMPANY (empid,name,post,salary) VALUES(3,'c','C','20')\");\n",
    "con.execute(\"INSERT INTO COMPANY (empid,name,post,salary) VALUES(4,'d','DSP','25')\");\n",
    "con.execute(\"INSERT INTO COMPANY (empid,name,post,salary) VALUES(5,'e','I','30')\");\n",
    "\n",
    "con.commit()"
   ]
  },
  {
   "cell_type": "code",
   "execution_count": 12,
   "id": "468b35ed",
   "metadata": {},
   "outputs": [
    {
     "name": "stdout",
     "output_type": "stream",
     "text": [
      "EMP ID:- 1\n",
      "Name:- a\n",
      "POST:- SI\n",
      "SALARY:- 10\n",
      "\n",
      "EMP ID:- 2\n",
      "Name:- b\n",
      "POST:- HC\n",
      "SALARY:- 15\n",
      "\n",
      "EMP ID:- 3\n",
      "Name:- c\n",
      "POST:- C\n",
      "SALARY:- 20\n",
      "\n",
      "EMP ID:- 4\n",
      "Name:- d\n",
      "POST:- DSP\n",
      "SALARY:- 25\n",
      "\n",
      "EMP ID:- 5\n",
      "Name:- e\n",
      "POST:- I\n",
      "SALARY:- 30\n",
      "\n"
     ]
    }
   ],
   "source": [
    "#Displaying the database\n",
    "#first we have to create a variable to iterate\n",
    "data=con.execute(\"SELECT empid,name,post,salary from COMPANY\");\n",
    "for row in data:\n",
    "    print(\"EMP ID:-\",row[0])\n",
    "    print(\"Name:-\",row[1])\n",
    "    print(\"POST:-\",row[2])\n",
    "    print(\"SALARY:-\",row[3])\n",
    "    print()"
   ]
  },
  {
   "cell_type": "code",
   "execution_count": 15,
   "id": "67737aa8",
   "metadata": {},
   "outputs": [],
   "source": [
    "#Updating the existing data\n",
    "con.execute(\"UPDATE COMPANY set salary=10000,post='officer' where empid=5\")\n",
    "con.commit()"
   ]
  },
  {
   "cell_type": "code",
   "execution_count": 16,
   "id": "341bf7b7",
   "metadata": {},
   "outputs": [
    {
     "name": "stdout",
     "output_type": "stream",
     "text": [
      "EMP ID:- 1\n",
      "Name:- a\n",
      "POST:- SI\n",
      "SALARY:- 10\n",
      "\n",
      "EMP ID:- 2\n",
      "Name:- b\n",
      "POST:- HC\n",
      "SALARY:- 15\n",
      "\n",
      "EMP ID:- 3\n",
      "Name:- c\n",
      "POST:- C\n",
      "SALARY:- 20\n",
      "\n",
      "EMP ID:- 4\n",
      "Name:- d\n",
      "POST:- DSP\n",
      "SALARY:- 25\n",
      "\n",
      "EMP ID:- 5\n",
      "Name:- e\n",
      "POST:- officer\n",
      "SALARY:- 10000\n",
      "\n"
     ]
    }
   ],
   "source": [
    "data=con.execute(\"SELECT empid,name,post,salary from COMPANY\");\n",
    "for row in data:\n",
    "    print(\"EMP ID:-\",row[0])\n",
    "    print(\"Name:-\",row[1])\n",
    "    print(\"POST:-\",row[2])\n",
    "    print(\"SALARY:-\",row[3])\n",
    "    print()"
   ]
  },
  {
   "cell_type": "code",
   "execution_count": 17,
   "id": "835c03bf",
   "metadata": {},
   "outputs": [],
   "source": [
    "#Deleting the data from the table\n",
    "con.execute(\"DELETE from COMPANY where empid=2\");\n",
    "con.commit()"
   ]
  },
  {
   "cell_type": "code",
   "execution_count": 18,
   "id": "21c3d56a",
   "metadata": {},
   "outputs": [
    {
     "name": "stdout",
     "output_type": "stream",
     "text": [
      "EMP ID:- 1\n",
      "Name:- a\n",
      "POST:- SI\n",
      "SALARY:- 10\n",
      "\n",
      "EMP ID:- 3\n",
      "Name:- c\n",
      "POST:- C\n",
      "SALARY:- 20\n",
      "\n",
      "EMP ID:- 4\n",
      "Name:- d\n",
      "POST:- DSP\n",
      "SALARY:- 25\n",
      "\n",
      "EMP ID:- 5\n",
      "Name:- e\n",
      "POST:- officer\n",
      "SALARY:- 10000\n",
      "\n"
     ]
    }
   ],
   "source": [
    "data=con.execute(\"SELECT empid,name,post,salary from COMPANY\");\n",
    "for row in data:\n",
    "    print(\"EMP ID:-\",row[0])\n",
    "    print(\"Name:-\",row[1])\n",
    "    print(\"POST:-\",row[2])\n",
    "    print(\"SALARY:-\",row[3])\n",
    "    print()"
   ]
  },
  {
   "cell_type": "code",
   "execution_count": 20,
   "id": "4fa3c2d5",
   "metadata": {},
   "outputs": [
    {
     "name": "stdout",
     "output_type": "stream",
     "text": [
      "Empolyee already exists\n"
     ]
    }
   ],
   "source": [
    "id=5\n",
    "a=con.execute(\"SELECT empid from COMPANY\");\n",
    "for row in a:\n",
    "    if row[0]==id:\n",
    "        print(\"Empolyee already exists\")      "
   ]
  },
  {
   "cell_type": "code",
   "execution_count": 21,
   "id": "a7d25d2f",
   "metadata": {},
   "outputs": [
    {
     "name": "stdout",
     "output_type": "stream",
     "text": [
      "(5, 'e', 'officer', 10000)\n"
     ]
    }
   ],
   "source": [
    "sql=\"SELECT * from COMPANY where empid=?\";\n",
    "data=(5,)\n",
    "a=con.execute(sql,data)\n",
    "for i in a:\n",
    "    print(i)"
   ]
  },
  {
   "cell_type": "code",
   "execution_count": null,
   "id": "ab69b089",
   "metadata": {},
   "outputs": [],
   "source": []
  }
 ],
 "metadata": {
  "kernelspec": {
   "display_name": "Python 3",
   "language": "python",
   "name": "python3"
  },
  "language_info": {
   "codemirror_mode": {
    "name": "ipython",
    "version": 3
   },
   "file_extension": ".py",
   "mimetype": "text/x-python",
   "name": "python",
   "nbconvert_exporter": "python",
   "pygments_lexer": "ipython3",
   "version": "3.8.8"
  }
 },
 "nbformat": 4,
 "nbformat_minor": 5
}
