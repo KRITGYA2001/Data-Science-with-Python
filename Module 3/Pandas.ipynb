{
 "cells": [
  {
   "cell_type": "code",
   "execution_count": 1,
   "id": "adb0aeb4",
   "metadata": {},
   "outputs": [],
   "source": [
    "import pandas as pd"
   ]
  },
  {
   "cell_type": "code",
   "execution_count": 2,
   "id": "bb1d7bc2",
   "metadata": {},
   "outputs": [
    {
     "name": "stdout",
     "output_type": "stream",
     "text": [
      "1.2.4\n"
     ]
    }
   ],
   "source": [
    "print(pd.__version__)"
   ]
  },
  {
   "cell_type": "code",
   "execution_count": 3,
   "id": "64638ecb",
   "metadata": {},
   "outputs": [
    {
     "name": "stdout",
     "output_type": "stream",
     "text": [
      "0    1\n",
      "1    2\n",
      "2    3\n",
      "3    4\n",
      "dtype: int64\n"
     ]
    }
   ],
   "source": [
    "#Pandas Series\n",
    "a=[1,2,3,4]\n",
    "c=pd.Series(a)\n",
    "print(c)"
   ]
  },
  {
   "cell_type": "code",
   "execution_count": 4,
   "id": "12f4abc0",
   "metadata": {},
   "outputs": [
    {
     "name": "stdout",
     "output_type": "stream",
     "text": [
      "1\n",
      "2\n",
      "0    1\n",
      "1    2\n",
      "2    3\n",
      "dtype: int64\n"
     ]
    }
   ],
   "source": [
    "#The value are labeled as 0,1,2......\n",
    "print(c[0])\n",
    "print(c[1])\n",
    "print(c[:-1])"
   ]
  },
  {
   "cell_type": "code",
   "execution_count": 5,
   "id": "61964902",
   "metadata": {},
   "outputs": [
    {
     "name": "stdout",
     "output_type": "stream",
     "text": [
      "1      one\n",
      "2      two\n",
      "3    three\n",
      "4     four\n",
      "dtype: object\n"
     ]
    }
   ],
   "source": [
    "#To label the values\n",
    "a=['one','two','three','four']\n",
    "c=pd.Series(a,index=[1,2,3,4])\n",
    "print(c)"
   ]
  },
  {
   "cell_type": "code",
   "execution_count": 8,
   "id": "6844c308",
   "metadata": {},
   "outputs": [
    {
     "name": "stdout",
     "output_type": "stream",
     "text": [
      "       0\n",
      "0    one\n",
      "1    two\n",
      "2  three\n",
      "3   four\n"
     ]
    }
   ],
   "source": [
    "c=pd.DataFrame(a)\n",
    "print(c)"
   ]
  },
  {
   "cell_type": "code",
   "execution_count": 7,
   "id": "292842d1",
   "metadata": {},
   "outputs": [
    {
     "name": "stdout",
     "output_type": "stream",
     "text": [
      "two\n",
      "['one', 'two', 'three', 'four']\n"
     ]
    }
   ],
   "source": [
    "print(a[1])\n",
    "print(a[:4])"
   ]
  },
  {
   "cell_type": "code",
   "execution_count": 2,
   "id": "7e3810a7",
   "metadata": {},
   "outputs": [
    {
     "name": "stdout",
     "output_type": "stream",
     "text": [
      "sal1    100\n",
      "sal2    200\n",
      "sal3    300\n",
      "dtype: int64\n"
     ]
    }
   ],
   "source": [
    "#Dictoniary\n",
    "a={'sal1':100,'sal2':200,'sal3':300}\n",
    "c=pd.Series(a)\n",
    "print(c)"
   ]
  },
  {
   "cell_type": "code",
   "execution_count": 3,
   "id": "3c207437",
   "metadata": {},
   "outputs": [
    {
     "name": "stdout",
     "output_type": "stream",
     "text": [
      "   sal1  sal2  sal3\n",
      "0   100    34   300\n",
      "1    34     2    86\n",
      "2    23    33    91\n",
      "3    67    44    75\n",
      "4    89   200    22\n"
     ]
    }
   ],
   "source": [
    "#DataFrame\n",
    "#Multiple array\n",
    "a={'sal1':[100,34,23,67,89],'sal2':[34,2,33,44,200],'sal3':[300,86,91,75,22]}\n",
    "c=pd.DataFrame(a)\n",
    "print(c)"
   ]
  },
  {
   "cell_type": "code",
   "execution_count": 13,
   "id": "46a9b31b",
   "metadata": {},
   "outputs": [
    {
     "name": "stdout",
     "output_type": "stream",
     "text": [
      "sal1    100\n",
      "sal2     34\n",
      "sal3    300\n",
      "Name: 0, dtype: int64\n",
      "\n",
      "sal1    34\n",
      "sal2     2\n",
      "sal3    86\n",
      "Name: 1, dtype: int64\n",
      "\n",
      "   sal1  sal2  sal3\n",
      "0   100    34   300\n",
      "2    23    33    91\n",
      "4    89   200    22\n"
     ]
    }
   ],
   "source": [
    "print(c.loc[0])\n",
    "print()\n",
    "print(c.loc[1])\n",
    "print()\n",
    "print(c.loc[[0,2,4]])"
   ]
  },
  {
   "cell_type": "code",
   "execution_count": 15,
   "id": "fc22179e",
   "metadata": {},
   "outputs": [
    {
     "name": "stdout",
     "output_type": "stream",
     "text": [
      "   sal1  sal2   sal3\n",
      "0   100    200   300\n",
      "1    34      2    86\n",
      "2    23     33    76\n",
      "3    67     44   454\n",
      "4    80     36    22\n"
     ]
    }
   ],
   "source": [
    "#CSV=(Comma Seprated values)\n",
    "#To read a csv file\n",
    "x=pd.read_csv('data.csv')\n",
    "print(x)"
   ]
  },
  {
   "cell_type": "code",
   "execution_count": 16,
   "id": "71291952",
   "metadata": {},
   "outputs": [
    {
     "name": "stdout",
     "output_type": "stream",
     "text": [
      "   sal1  sal2   sal3\n",
      "0   100    200   300\n",
      "1    34      2    86\n",
      "2    23     33    76\n",
      "3    67     44   454\n",
      "4    80     36    22\n"
     ]
    }
   ],
   "source": [
    "#To convert the data into string\n",
    "print(x.to_string())"
   ]
  },
  {
   "cell_type": "code",
   "execution_count": null,
   "id": "c20f246d",
   "metadata": {},
   "outputs": [],
   "source": [
    "#JSON(JavaScript Object Notation)\n",
    "#It is a extension of file used in web-d to tranfer the data from server to \n",
    "#website(or vice versa)"
   ]
  },
  {
   "cell_type": "code",
   "execution_count": 19,
   "id": "a03bbb66",
   "metadata": {},
   "outputs": [],
   "source": [
    "x={\n",
    "    \"person1\":{\n",
    "        \"name\":\"jayesh\",\n",
    "        \"age\":25},\n",
    "    \n",
    "    \"person2\":{\n",
    "        \"name\":\"hello\",\n",
    "        \"age\":21},\n",
    "    \n",
    "    \"person3\":{\n",
    "        \"name\":\"wait\",\n",
    "        \"age\":23},\n",
    "    \n",
    "    \"person4\":{\n",
    "        \"name\":\"byee\",\n",
    "        \"age\":20}\n",
    "  }"
   ]
  },
  {
   "cell_type": "code",
   "execution_count": 20,
   "id": "2670f253",
   "metadata": {},
   "outputs": [
    {
     "name": "stdout",
     "output_type": "stream",
     "text": [
      "     person1 person2 person3 person4\n",
      "name  jayesh   hello    wait    byee\n",
      "age       25      21      23      20\n"
     ]
    }
   ],
   "source": [
    "a=pd.DataFrame(x)\n",
    "print(a)"
   ]
  },
  {
   "cell_type": "markdown",
   "id": "3ead9d31",
   "metadata": {},
   "source": [
    "# Analysing the data"
   ]
  },
  {
   "cell_type": "code",
   "execution_count": 21,
   "id": "9a691ae9",
   "metadata": {},
   "outputs": [],
   "source": [
    "x=pd.read_csv('data.csv')"
   ]
  },
  {
   "cell_type": "code",
   "execution_count": 25,
   "id": "5dcc5f4e",
   "metadata": {},
   "outputs": [
    {
     "name": "stdout",
     "output_type": "stream",
     "text": [
      "   sal1  sal2   sal3\n",
      "0   100    200   300\n",
      "\n",
      "   sal1  sal2   sal3\n",
      "0   100    200   300\n",
      "1    34      2    86\n"
     ]
    }
   ],
   "source": [
    "#header only(from top)\n",
    "print(x.head(1))\n",
    "print()\n",
    "print(x.head(2))"
   ]
  },
  {
   "cell_type": "code",
   "execution_count": 26,
   "id": "8e942f8f",
   "metadata": {},
   "outputs": [
    {
     "name": "stdout",
     "output_type": "stream",
     "text": [
      "   sal1  sal2   sal3\n",
      "4    80     36    22\n",
      "\n",
      "   sal1  sal2   sal3\n",
      "3    67     44   454\n",
      "4    80     36    22\n"
     ]
    }
   ],
   "source": [
    "#Tail method(from bottom)\n",
    "print(x.tail(1))\n",
    "print()\n",
    "print(x.tail(2))"
   ]
  },
  {
   "cell_type": "code",
   "execution_count": 29,
   "id": "4ea2e1e1",
   "metadata": {},
   "outputs": [
    {
     "name": "stdout",
     "output_type": "stream",
     "text": [
      "                  country_code  \\\n",
      "0                           AD   \n",
      "1                           AE   \n",
      "2                           AF   \n",
      "3                           AG   \n",
      "4                           AI   \n",
      "..                         ...   \n",
      "253              TOT (OMT CIF)   \n",
      "254              TOT (OMT FOB)   \n",
      "255              TOT (OMT VFD)   \n",
      "256            TOT (BoP basis)   \n",
      "257  BoP conceptual adjustment   \n",
      "\n",
      "                                         country_label  \n",
      "0                                              Andorra  \n",
      "1                                 United Arab Emirates  \n",
      "2                                          Afghanistan  \n",
      "3                                  Antigua and Barbuda  \n",
      "4                                             Anguilla  \n",
      "..                                                 ...  \n",
      "253  Total goods - cost including insurance and fre...  \n",
      "254                        Total goods - free on board  \n",
      "255                       Total goods - value for duty  \n",
      "256            Total goods - Balance of Payments basis  \n",
      "257          Balance of Payments conceptual adjustment  \n",
      "\n",
      "[258 rows x 2 columns]\n"
     ]
    }
   ],
   "source": [
    "file=pd.read_csv('Sample.csv')\n",
    "print(file)"
   ]
  },
  {
   "cell_type": "code",
   "execution_count": 30,
   "id": "4163df78",
   "metadata": {},
   "outputs": [
    {
     "name": "stdout",
     "output_type": "stream",
     "text": [
      "                  country_code  \\\n",
      "0                           AD   \n",
      "1                           AE   \n",
      "2                           AF   \n",
      "3                           AG   \n",
      "4                           AI   \n",
      "..                         ...   \n",
      "253              TOT (OMT CIF)   \n",
      "254              TOT (OMT FOB)   \n",
      "255              TOT (OMT VFD)   \n",
      "256            TOT (BoP basis)   \n",
      "257  BoP conceptual adjustment   \n",
      "\n",
      "                                         country_label  \n",
      "0                                              Andorra  \n",
      "1                                 United Arab Emirates  \n",
      "2                                          Afghanistan  \n",
      "3                                  Antigua and Barbuda  \n",
      "4                                             Anguilla  \n",
      "..                                                 ...  \n",
      "253  Total goods - cost including insurance and fre...  \n",
      "254                        Total goods - free on board  \n",
      "255                       Total goods - value for duty  \n",
      "256            Total goods - Balance of Payments basis  \n",
      "257          Balance of Payments conceptual adjustment  \n",
      "\n",
      "[257 rows x 2 columns]\n"
     ]
    }
   ],
   "source": [
    "#dropna command is used to remove blank columns and rows.\n",
    "#changing the orginal data into another variable.\n",
    "a=file.dropna()\n",
    "print(a)"
   ]
  },
  {
   "cell_type": "code",
   "execution_count": 32,
   "id": "7ffae57e",
   "metadata": {},
   "outputs": [
    {
     "name": "stdout",
     "output_type": "stream",
     "text": [
      "                  country_code                                        country_label\n",
      "0                           AD                                              Andorra\n",
      "1                           AE                                 United Arab Emirates\n",
      "2                           AF                                          Afghanistan\n",
      "3                           AG                                  Antigua and Barbuda\n",
      "4                           AI                                             Anguilla\n",
      "5                           AL                                              Albania\n",
      "6                           AM                                              Armenia\n",
      "7                           AO                                               Angola\n",
      "8                           AQ                                           Antarctica\n",
      "9                           AR                                            Argentina\n",
      "10                          AS                                      Samoa, American\n",
      "11                          AT                                              Austria\n",
      "12                          AU                                            Australia\n",
      "13                          AW                                                Aruba\n",
      "14                          AZ                                           Azerbaijan\n",
      "15                          BA                               Bosnia and Herzegovina\n",
      "16                          BB                                             Barbados\n",
      "17                          BD                                           Bangladesh\n",
      "18                          BE                                              Belgium\n",
      "19                          BF                                         Burkina Faso\n",
      "20                          BG                                             Bulgaria\n",
      "21                          BH                                              Bahrain\n",
      "22                          BI                                              Burundi\n",
      "23                          BJ                                                Benin\n",
      "24                          BM                                              Bermuda\n",
      "25                          BN                                    Brunei Darussalam\n",
      "26                          BO                                              Bolivia\n",
      "27                          BR                                               Brazil\n",
      "28                          BS                                              Bahamas\n",
      "29                          BT                                               Bhutan\n",
      "30                          BW                                             Botswana\n",
      "31                          BY                                              Belarus\n",
      "32                          BZ                                               Belize\n",
      "33                          CA                                               Canada\n",
      "34                          CC                              Cocos (Keeling) Islands\n",
      "35                          CD                Congo, the Democratic Republic of the\n",
      "36                          CF                             Central African Republic\n",
      "37                          CG                                                Congo\n",
      "38                          CH                                          Switzerland\n",
      "39                          CI                                        Cote d'Ivoire\n",
      "40                          CK                                         Cook Islands\n",
      "41                          CL                                                Chile\n",
      "42                          CM                                             Cameroon\n",
      "43                          CN                          China, People's Republic of\n",
      "44                          CO                                             Colombia\n",
      "45                          CR                                           Costa Rica\n",
      "46                          CU                                                 Cuba\n",
      "47                          CV                                           Cabo Verde\n",
      "48                          CW                                              Curacao\n",
      "49                          CX                                     Christmas Island\n",
      "50                          CY                                               Cyprus\n",
      "51                          CZ                                              Czechia\n",
      "52                          DE                                              Germany\n",
      "53                          DJ                                             Djibouti\n",
      "54                          DK                                              Denmark\n",
      "55                          DM                                             Dominica\n",
      "56                          DO                                   Dominican Republic\n",
      "57                          DZ                                              Algeria\n",
      "58                          EC                                              Ecuador\n",
      "59                          EE                                              Estonia\n",
      "60                          EG                                                Egypt\n",
      "61                          EH                                       Western Sahara\n",
      "62                          EN                                              England\n",
      "63                          ER                                              Eritrea\n",
      "64                          ES                                                Spain\n",
      "65                          ET                                             Ethiopia\n",
      "66                          FI                                              Finland\n",
      "67                          FJ                                                 Fiji\n",
      "68                          FK                                     Falkland Islands\n",
      "69                          FM                      Micronesia, Federated States of\n",
      "70                          FO                                       Faeroe Islands\n",
      "71                          FR                                               France\n",
      "72                          GA                                                Gabon\n",
      "73                          GB                                       United Kingdom\n",
      "74                          GD                                              Grenada\n",
      "75                          GE                                              Georgia\n",
      "76                          GF                                        French Guiana\n",
      "77                          GH                                                Ghana\n",
      "78                          GI                                            Gibraltar\n",
      "79                          GJ                                      Channel Islands\n",
      "80                          GL                                            Greenland\n",
      "81                          GM                                               Gambia\n",
      "82                          GN                                               Guinea\n",
      "83                          GP                                           Guadeloupe\n",
      "84                          GQ                                    Equatorial Guinea\n",
      "85                          GR                                               Greece\n",
      "86                          GS         South Georgia and the South Sandwich Islands\n",
      "87                          GT                                            Guatemala\n",
      "88                          GU                                                 Guam\n",
      "89                          GW                                        Guinea-Bissau\n",
      "90                          GY                                               Guyana\n",
      "91                          HI                                             Scotland\n",
      "92                          HK            Hong Kong (Special Administrative Region)\n",
      "93                          HN                                             Honduras\n",
      "94                          HR                                              Croatia\n",
      "95                          HT                                                Haiti\n",
      "96                          HU                                              Hungary\n",
      "97                          ID                                            Indonesia\n",
      "98                          IE                                              Ireland\n",
      "99                          IL                                               Israel\n",
      "100                         IM                                          Isle of Man\n",
      "101                         IN                                                India\n",
      "102                         IO                       British Indian Ocean Territory\n",
      "103                         IQ                                                 Iraq\n",
      "104                         IR                                                 Iran\n",
      "105                         IS                                              Iceland\n",
      "106                         IT                                                Italy\n",
      "107                         JM                                              Jamaica\n",
      "108                         JO                                               Jordan\n",
      "109                         JP                                                Japan\n",
      "110                         KE                                                Kenya\n",
      "111                         KG                                           Kyrgyzstan\n",
      "112                         KH                                             Cambodia\n",
      "113                         KI                                             Kiribati\n",
      "114                         KM                                              Comoros\n",
      "115                         KN                                   St Kitts and Nevis\n",
      "116                         KP               Korea, Democratic People's Republic of\n",
      "117                         KR                                   Korea, Republic of\n",
      "118                         KW                                               Kuwait\n",
      "119                         KX                                               Kosovo\n",
      "120                         KY                                       Cayman Islands\n",
      "121                         KZ                                           Kazakhstan\n",
      "122                         LA                                                 Laos\n",
      "123                         LB                                              Lebanon\n",
      "124                         LC                                             St Lucia\n",
      "125                         LI                                        Liechtenstein\n",
      "126                         LK                                            Sri Lanka\n",
      "127                         LR                                              Liberia\n",
      "128                         LS                                              Lesotho\n",
      "129                         LT                                            Lithuania\n",
      "130                         LU                                           Luxembourg\n",
      "131                         LV                                               Latvia\n",
      "132                         LY                                                Libya\n",
      "133                         MA                                              Morocco\n",
      "134                         MC                                               Monaco\n",
      "135                         MD                                              Moldova\n",
      "136                         ME                                           Montenegro\n",
      "137                         MG                                           Madagascar\n",
      "138                         MH                                     Marshall Islands\n",
      "139                         MK                                      North Macedonia\n",
      "140                         ML                                                 Mali\n",
      "141                         MM                                              Myanmar\n",
      "142                         MN                                             Mongolia\n",
      "143                         MO                Macau (Special Administrative Region)\n",
      "144                         MP                             Northern Mariana Islands\n",
      "145                         MQ                                           Martinique\n",
      "146                         MR                                           Mauritania\n",
      "147                         MS                                           Montserrat\n",
      "148                         MT                                                Malta\n",
      "149                         MU                                            Mauritius\n",
      "150                         MV                                             Maldives\n",
      "151                         MW                                               Malawi\n",
      "152                         MX                                               Mexico\n",
      "153                         MY                                             Malaysia\n",
      "154                         MZ                                           Mozambique\n",
      "155                        NaN                                              Namibia\n",
      "156                         NC                                        New Caledonia\n",
      "157                         ND                                     Northern Ireland\n",
      "158                         NE                                                Niger\n",
      "159                         NF                                       Norfolk Island\n",
      "160                         NG                                              Nigeria\n",
      "161                         NI                                            Nicaragua\n",
      "162                         NL                                          Netherlands\n",
      "163                         NO                                               Norway\n",
      "164                         NP                                                Nepal\n",
      "165                         NR                                                Nauru\n",
      "166                         NU                                                 Niue\n",
      "167                         NZ                                          New Zealand\n",
      "168                         OM                                                 Oman\n",
      "169                         PA                                               Panama\n",
      "170                         PE                                                 Peru\n",
      "171                         PF                                     French Polynesia\n",
      "172                         PG                                     Papua New Guinea\n",
      "173                         PH                                          Philippines\n",
      "174                         PK                                             Pakistan\n",
      "175                         PL                                               Poland\n",
      "176                         PM                               St Pierre and Miquelon\n",
      "177                         PN                                             Pitcairn\n",
      "178                         PR                                          Puerto Rico\n",
      "179                         PS                       Gaza Strip/Palestine/West Bank\n",
      "180                         PT                                             Portugal\n",
      "181                         PW                                                Palau\n",
      "182                         PY                                             Paraguay\n",
      "183                         QA                                                Qatar\n",
      "184                         RE                                              Reunion\n",
      "185                         RO                                              Romania\n",
      "186                         RS                                               Serbia\n",
      "187                         RU                                               Russia\n",
      "188                         RW                                               Rwanda\n",
      "189                         SA                                         Saudi Arabia\n",
      "190                         SB                                      Solomon Islands\n",
      "191                         SC                                           Seychelles\n",
      "192                         SD                                                Sudan\n",
      "193                         SE                                               Sweden\n",
      "194                         SG                                            Singapore\n",
      "195                         SH                                            St Helena\n",
      "196                         SI                                             Slovenia\n",
      "197                         SK                                             Slovakia\n",
      "198                         SL                                         Sierra Leone\n",
      "199                         SM                                           San Marino\n",
      "200                         SN                                              Senegal\n",
      "201                         SO                                              Somalia\n",
      "202                         SR                                             Suriname\n",
      "203                         SS                                          South Sudan\n",
      "204                         ST                                Sao Tome and Principe\n",
      "205                         SV                                          El Salvador\n",
      "206                         SX                              St Maarten (Dutch Part)\n",
      "207                         SY                                                Syria\n",
      "208                         SZ                                             Eswatini\n",
      "209                         TC                             Turks and Caicos Islands\n",
      "210                         TD                                                 Chad\n",
      "211                         TF                          French Southern Territories\n",
      "212                         TG                                                 Togo\n",
      "213                         TH                                             Thailand\n",
      "214                         TJ                                           Tajikistan\n",
      "215                         TK                                              Tokelau\n",
      "216                         TL                                          Timor-Leste\n",
      "217                         TM                                         Turkmenistan\n",
      "218                         TN                                              Tunisia\n",
      "219                         TO                                                Tonga\n",
      "220                         TR                                               Turkey\n",
      "221                         TT                                  Trinidad and Tobago\n",
      "222                         TV                                               Tuvalu\n",
      "223                         TW                                               Taiwan\n",
      "224                         TZ                                             Tanzania\n",
      "225                         UA                                              Ukraine\n",
      "226                         UG                                               Uganda\n",
      "227                         UM                 United States Minor Outlying Islands\n",
      "228                         US                             United States of America\n",
      "229                         UY                                              Uruguay\n",
      "230                         UZ                                           Uzbekistan\n",
      "231                         VA                                   Vatican City State\n",
      "232                         VC                        St Vincent and the Grenadines\n",
      "233                         VE                                            Venezuela\n",
      "234                         VG                              Virgin Islands, British\n",
      "235                         VI                        Virgin Islands, United States\n",
      "236                         VN                                             Viet Nam\n",
      "237                         VU                                              Vanuatu\n",
      "238                         WA                                                Wales\n",
      "239                         WF                                    Wallis and Futuna\n",
      "240                         WS                                                Samoa\n",
      "241                         XX                                           Not Stated\n",
      "242                         YE                                                Yemen\n",
      "243                         YT                                              Mayotte\n",
      "244                         ZA                                         South Africa\n",
      "245                         ZB                                     Ships' Bunkering\n",
      "246                         ZE                             Destination Unknown - EU\n",
      "247                         ZM                                               Zambia\n",
      "248                         ZO                         Destination Unknown - Non-EU\n",
      "249                         ZP                                  Passengers' Effects\n",
      "250                         ZS                                        Ships' Stores\n",
      "251                         ZW                                             Zimbabwe\n",
      "252                        TOT                                                Total\n",
      "253              TOT (OMT CIF)  Total goods - cost including insurance and freight)\n",
      "254              TOT (OMT FOB)                          Total goods - free on board\n",
      "255              TOT (OMT VFD)                         Total goods - value for duty\n",
      "256            TOT (BoP basis)              Total goods - Balance of Payments basis\n",
      "257  BoP conceptual adjustment            Balance of Payments conceptual adjustment\n"
     ]
    }
   ],
   "source": [
    "print(file.to_string())"
   ]
  },
  {
   "cell_type": "code",
   "execution_count": 33,
   "id": "bae0a669",
   "metadata": {},
   "outputs": [],
   "source": [
    "#Changing the orginal data\n",
    "file.dropna(inplace=True)"
   ]
  },
  {
   "cell_type": "code",
   "execution_count": 35,
   "id": "d47ead19",
   "metadata": {},
   "outputs": [
    {
     "name": "stdout",
     "output_type": "stream",
     "text": [
      "                  country_code  \\\n",
      "0                           AD   \n",
      "1                           AE   \n",
      "2                           AF   \n",
      "3                           AG   \n",
      "4                           AI   \n",
      "..                         ...   \n",
      "253              TOT (OMT CIF)   \n",
      "254              TOT (OMT FOB)   \n",
      "255              TOT (OMT VFD)   \n",
      "256            TOT (BoP basis)   \n",
      "257  BoP conceptual adjustment   \n",
      "\n",
      "                                         country_label  \n",
      "0                                              Andorra  \n",
      "1                                 United Arab Emirates  \n",
      "2                                          Afghanistan  \n",
      "3                                  Antigua and Barbuda  \n",
      "4                                             Anguilla  \n",
      "..                                                 ...  \n",
      "253  Total goods - cost including insurance and fre...  \n",
      "254                        Total goods - free on board  \n",
      "255                       Total goods - value for duty  \n",
      "256            Total goods - Balance of Payments basis  \n",
      "257          Balance of Payments conceptual adjustment  \n",
      "\n",
      "[257 rows x 2 columns]\n"
     ]
    }
   ],
   "source": [
    "#To replace the empty data sets (fillna)\n",
    "file.fillna(120,inplace=True)\n",
    "print(file)"
   ]
  },
  {
   "cell_type": "code",
   "execution_count": null,
   "id": "7da49479",
   "metadata": {},
   "outputs": [],
   "source": [
    "#Only for a specific coloumn\n",
    "#Calories\n",
    "file['column name'].fillna(120,inplace=True)\n",
    "print(file)"
   ]
  },
  {
   "cell_type": "code",
   "execution_count": null,
   "id": "1ed93cfe",
   "metadata": {},
   "outputs": [],
   "source": [
    "#mean of a specific coloumn\n",
    "y=file['column name'].mean()\n",
    "print(y)\n",
    "\n",
    "#use the avearge value\n",
    "file['column name'].fillna(y,inplace=True)"
   ]
  },
  {
   "cell_type": "code",
   "execution_count": null,
   "id": "533d374a",
   "metadata": {},
   "outputs": [],
   "source": [
    "#Wrong data or Wrong format \n",
    "#Converting date in proper format\n",
    "x=pd.read_csv(\"dirt.csv\")\n",
    "x[\"Date\"]=pd.to_datetime(x[\"Date\"])\n",
    "print(x)\n",
    "#(Nnan->Nat)"
   ]
  },
  {
   "cell_type": "code",
   "execution_count": null,
   "id": "80b5d699",
   "metadata": {},
   "outputs": [],
   "source": [
    "#To change some values of specific location\n",
    "x=pd.read_csv(\"dirt.csv\")\n",
    "x.loc[7,\"Maxpulse\"]=88\n",
    "print(x)\n",
    "\n",
    "\n",
    "for a in x.index:\n",
    "    if x.loc[a,\"Maxpulse\"]>120:\n",
    "        x.loc[a,\"Maxpulse\"]=100\n",
    "        \n",
    "        "
   ]
  },
  {
   "cell_type": "code",
   "execution_count": null,
   "id": "03e1cfed",
   "metadata": {},
   "outputs": [],
   "source": [
    "#Remove Duplicate the data\n",
    "x=pd.read_csv(\"dirt.csv\")\n",
    "print(x.duplicated())             #to see the duplicate data"
   ]
  },
  {
   "cell_type": "code",
   "execution_count": 2,
   "id": "8631d16a",
   "metadata": {},
   "outputs": [
    {
     "name": "stdout",
     "output_type": "stream",
     "text": [
      "           sal1     sal2       sal3\n",
      "sal1   1.000000  0.749765  0.419717\n",
      "sal2   0.749765  1.000000  0.425531\n",
      "sal3   0.419717  0.425531  1.000000\n"
     ]
    }
   ],
   "source": [
    "#Fiding the relation between two col.\n",
    "f=pd.read_csv(\"data.csv\")\n",
    "print(f.corr())"
   ]
  },
  {
   "cell_type": "code",
   "execution_count": null,
   "id": "2a9c451a",
   "metadata": {},
   "outputs": [],
   "source": []
  }
 ],
 "metadata": {
  "kernelspec": {
   "display_name": "Python 3",
   "language": "python",
   "name": "python3"
  },
  "language_info": {
   "codemirror_mode": {
    "name": "ipython",
    "version": 3
   },
   "file_extension": ".py",
   "mimetype": "text/x-python",
   "name": "python",
   "nbconvert_exporter": "python",
   "pygments_lexer": "ipython3",
   "version": "3.8.8"
  }
 },
 "nbformat": 4,
 "nbformat_minor": 5
}
